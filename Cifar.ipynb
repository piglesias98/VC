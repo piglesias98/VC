{
  "nbformat": 4,
  "nbformat_minor": 0,
  "metadata": {
    "colab": {
      "name": "Cifar",
      "provenance": [],
      "collapsed_sections": [],
      "machine_shape": "hm",
      "include_colab_link": true
    },
    "kernelspec": {
      "name": "python3",
      "display_name": "Python 3"
    },
    "accelerator": "GPU"
  },
  "cells": [
    {
      "cell_type": "markdown",
      "metadata": {
        "id": "view-in-github",
        "colab_type": "text"
      },
      "source": [
        "<a href=\"https://colab.research.google.com/github/piglesias98/VC/blob/master/Cifar.ipynb\" target=\"_parent\"><img src=\"https://colab.research.google.com/assets/colab-badge.svg\" alt=\"Open In Colab\"/></a>"
      ]
    },
    {
      "cell_type": "markdown",
      "metadata": {
        "id": "ZoJzyu0z4OzF",
        "colab_type": "text"
      },
      "source": [
        "# Importación de librerías necesarias"
      ]
    },
    {
      "cell_type": "code",
      "metadata": {
        "id": "D8mRCDN4nBB-",
        "colab_type": "code",
        "outputId": "f17c7f22-4059-4eb6-f838-652f9892e131",
        "colab": {
          "base_uri": "https://localhost:8080/",
          "height": 390
        }
      },
      "source": [
        "!pip install tensorflow\n"
      ],
      "execution_count": 0,
      "outputs": [
        {
          "output_type": "stream",
          "text": [
            "Requirement already satisfied: tensorflow in /usr/local/lib/python3.6/dist-packages (1.15.0)\n",
            "Requirement already satisfied: wheel>=0.26 in /usr/local/lib/python3.6/dist-packages (from tensorflow) (0.33.6)\n",
            "Requirement already satisfied: termcolor>=1.1.0 in /usr/local/lib/python3.6/dist-packages (from tensorflow) (1.1.0)\n",
            "Requirement already satisfied: tensorboard<1.16.0,>=1.15.0 in /usr/local/lib/python3.6/dist-packages (from tensorflow) (1.15.0)\n",
            "Requirement already satisfied: google-pasta>=0.1.6 in /usr/local/lib/python3.6/dist-packages (from tensorflow) (0.1.8)\n",
            "Requirement already satisfied: gast==0.2.2 in /usr/local/lib/python3.6/dist-packages (from tensorflow) (0.2.2)\n",
            "Requirement already satisfied: tensorflow-estimator==1.15.1 in /usr/local/lib/python3.6/dist-packages (from tensorflow) (1.15.1)\n",
            "Requirement already satisfied: wrapt>=1.11.1 in /usr/local/lib/python3.6/dist-packages (from tensorflow) (1.11.2)\n",
            "Requirement already satisfied: numpy<2.0,>=1.16.0 in /usr/local/lib/python3.6/dist-packages (from tensorflow) (1.17.4)\n",
            "Requirement already satisfied: keras-preprocessing>=1.0.5 in /usr/local/lib/python3.6/dist-packages (from tensorflow) (1.1.0)\n",
            "Requirement already satisfied: grpcio>=1.8.6 in /usr/local/lib/python3.6/dist-packages (from tensorflow) (1.15.0)\n",
            "Requirement already satisfied: opt-einsum>=2.3.2 in /usr/local/lib/python3.6/dist-packages (from tensorflow) (3.1.0)\n",
            "Requirement already satisfied: absl-py>=0.7.0 in /usr/local/lib/python3.6/dist-packages (from tensorflow) (0.8.1)\n",
            "Requirement already satisfied: keras-applications>=1.0.8 in /usr/local/lib/python3.6/dist-packages (from tensorflow) (1.0.8)\n",
            "Requirement already satisfied: protobuf>=3.6.1 in /usr/local/lib/python3.6/dist-packages (from tensorflow) (3.10.0)\n",
            "Requirement already satisfied: six>=1.10.0 in /usr/local/lib/python3.6/dist-packages (from tensorflow) (1.12.0)\n",
            "Requirement already satisfied: astor>=0.6.0 in /usr/local/lib/python3.6/dist-packages (from tensorflow) (0.8.0)\n",
            "Requirement already satisfied: werkzeug>=0.11.15 in /usr/local/lib/python3.6/dist-packages (from tensorboard<1.16.0,>=1.15.0->tensorflow) (0.16.0)\n",
            "Requirement already satisfied: setuptools>=41.0.0 in /usr/local/lib/python3.6/dist-packages (from tensorboard<1.16.0,>=1.15.0->tensorflow) (41.6.0)\n",
            "Requirement already satisfied: markdown>=2.6.8 in /usr/local/lib/python3.6/dist-packages (from tensorboard<1.16.0,>=1.15.0->tensorflow) (3.1.1)\n",
            "Requirement already satisfied: h5py in /usr/local/lib/python3.6/dist-packages (from keras-applications>=1.0.8->tensorflow) (2.8.0)\n"
          ],
          "name": "stdout"
        }
      ]
    },
    {
      "cell_type": "code",
      "metadata": {
        "id": "nu2NUMAWcGGK",
        "colab_type": "code",
        "outputId": "d09d4185-be73-47f6-db36-d8d32643e8ee",
        "colab": {
          "base_uri": "https://localhost:8080/",
          "height": 82
        }
      },
      "source": [
        "import tensorflow as tf\n",
        "print(tf.__version__)"
      ],
      "execution_count": 0,
      "outputs": [
        {
          "output_type": "display_data",
          "data": {
            "text/html": [
              "<p style=\"color: red;\">\n",
              "The default version of TensorFlow in Colab will soon switch to TensorFlow 2.x.<br>\n",
              "We recommend you <a href=\"https://www.tensorflow.org/guide/migrate\" target=\"_blank\">upgrade</a> now \n",
              "or ensure your notebook will continue to use TensorFlow 1.x via the <code>%tensorflow_version 1.x</code> magic:\n",
              "<a href=\"https://colab.research.google.com/notebooks/tensorflow_version.ipynb\" target=\"_blank\">more info</a>.</p>\n"
            ],
            "text/plain": [
              "<IPython.core.display.HTML object>"
            ]
          },
          "metadata": {
            "tags": []
          }
        },
        {
          "output_type": "stream",
          "text": [
            "1.15.0\n"
          ],
          "name": "stdout"
        }
      ]
    },
    {
      "cell_type": "code",
      "metadata": {
        "id": "Nlv7ecpqnNkk",
        "colab_type": "code",
        "colab": {}
      },
      "source": [
        " from tensorflow import keras\n"
      ],
      "execution_count": 0,
      "outputs": []
    },
    {
      "cell_type": "code",
      "metadata": {
        "id": "VAVQMi8npT0s",
        "colab_type": "code",
        "outputId": "a4ab0d10-8f30-49b7-d9b2-e70ab66809aa",
        "colab": {
          "base_uri": "https://localhost:8080/",
          "height": 35
        }
      },
      "source": [
        "print(keras.__version__)"
      ],
      "execution_count": 0,
      "outputs": [
        {
          "output_type": "stream",
          "text": [
            "2.2.4-tf\n"
          ],
          "name": "stdout"
        }
      ]
    },
    {
      "cell_type": "code",
      "metadata": {
        "id": "msivOcvcpXcx",
        "colab_type": "code",
        "outputId": "5b441f50-da2a-4277-fb35-d4c68d213897",
        "colab": {
          "base_uri": "https://localhost:8080/",
          "height": 35
        }
      },
      "source": [
        "import numpy as np\n",
        "import matplotlib.pyplot as plt\n",
        "import keras.utils as np_utils"
      ],
      "execution_count": 0,
      "outputs": [
        {
          "output_type": "stream",
          "text": [
            "Using TensorFlow backend.\n"
          ],
          "name": "stderr"
        }
      ]
    },
    {
      "cell_type": "markdown",
      "metadata": {
        "id": "O7zbTP4r4fX8",
        "colab_type": "text"
      },
      "source": [
        "Importamos los modelos y capas que se van a usar"
      ]
    },
    {
      "cell_type": "code",
      "metadata": {
        "id": "BVlWx5dLvi7q",
        "colab_type": "code",
        "colab": {}
      },
      "source": [
        "from keras.models import Sequential, Model\n",
        "from keras.layers import Dense, Dropout, Flatten, GlobalAveragePooling2D, Input, Activation\n",
        "from keras.layers import Conv2D, MaxPooling2D, BatchNormalization"
      ],
      "execution_count": 0,
      "outputs": []
    },
    {
      "cell_type": "code",
      "metadata": {
        "id": "PvR4YeXXva-i",
        "colab_type": "code",
        "colab": {}
      },
      "source": [
        "from keras.optimizers import SGD\n",
        "from keras.datasets import cifar100\n",
        "from keras.preprocessing.image import ImageDataGenerator\n",
        "from keras.callbacks import EarlyStopping, ModelCheckpoint\n",
        "from keras import applications\n",
        "from keras.applications.resnet50 import ResNet50, preprocess_input\n",
        "from keras.preprocessing.image import load_img, img_to_array\n"
      ],
      "execution_count": 0,
      "outputs": []
    },
    {
      "cell_type": "markdown",
      "metadata": {
        "id": "UtmnshY7HTi2",
        "colab_type": "text"
      },
      "source": [
        "Añadimos los datos del drive"
      ]
    },
    {
      "cell_type": "code",
      "metadata": {
        "id": "FuKkKpB9HXF5",
        "colab_type": "code",
        "outputId": "ee78dfb7-c852-4408-fc71-7cdb7e61f970",
        "colab": {
          "base_uri": "https://localhost:8080/",
          "height": 126
        }
      },
      "source": [
        "from google.colab import drive\n",
        "drive.mount(\"/content/drive\", force_remount=True)"
      ],
      "execution_count": 0,
      "outputs": [
        {
          "output_type": "stream",
          "text": [
            "Go to this URL in a browser: https://accounts.google.com/o/oauth2/auth?client_id=947318989803-6bn6qk8qdgf4n4g3pfee6491hc0brc4i.apps.googleusercontent.com&redirect_uri=urn%3aietf%3awg%3aoauth%3a2.0%3aoob&response_type=code&scope=email%20https%3a%2f%2fwww.googleapis.com%2fauth%2fdocs.test%20https%3a%2f%2fwww.googleapis.com%2fauth%2fdrive%20https%3a%2f%2fwww.googleapis.com%2fauth%2fdrive.photos.readonly%20https%3a%2f%2fwww.googleapis.com%2fauth%2fpeopleapi.readonly\n",
            "\n",
            "Enter your authorization code:\n",
            "··········\n",
            "Mounted at /content/drive\n"
          ],
          "name": "stdout"
        }
      ]
    },
    {
      "cell_type": "markdown",
      "metadata": {
        "id": "06cA3ZAkbrfd",
        "colab_type": "text"
      },
      "source": [
        "# Funciones auxiliares"
      ]
    },
    {
      "cell_type": "markdown",
      "metadata": {
        "id": "S0_qkAMV4-bd",
        "colab_type": "text"
      },
      "source": [
        "Lectura y modificación del conjunto de imágenes"
      ]
    },
    {
      "cell_type": "code",
      "metadata": {
        "id": "pZxJ1Wl95Cpc",
        "colab_type": "code",
        "colab": {}
      },
      "source": [
        "def cargarImagenes():\n",
        "  #Cargamos Cifar100.\n",
        "  #Cada imagen tiene tamaño (32,32,3)\n",
        "  \n",
        "  (x_train, y_train),(x_test, y_test)=cifar100.load_data(label_mode='fine')\n",
        "  x_train = x_train.astype('float32')\n",
        "  x_test = x_test.astype('float32')\n",
        "\n",
        "  #Normalizamos\n",
        "  x_train=x_train/255\n",
        "  x_test=x_test/255\n",
        "  \n",
        "  #Nos quedamos con las imágenes de 25 de las clases\n",
        "  train_idx = np.isin(y_train, np.arange(25))\n",
        "  train_idx = np.reshape(train_idx, -1)\n",
        "  x_train = x_train[train_idx]\n",
        "  y_train = y_train[train_idx]\n",
        "\n",
        "  test_idx = np.isin(y_test, np.arange(25))\n",
        "  test_idx = np.reshape(test_idx, -1)\n",
        "  x_test = x_test[test_idx]\n",
        "  y_test = y_test[test_idx]\n",
        "\n",
        "  #Transformamos los vectores de clases en matrices\n",
        "  #Cada componente se convierte en un vector de ceros\n",
        "  #con un uno en la componente correspondiente a la imagen\n",
        "  # --> necesario para la clasificación multiclase en keras\n",
        "\n",
        "  y_train = np_utils.to_categorical(y_train, 25)\n",
        "  y_test = np_utils.to_categorical(y_test, 25)\n",
        "\n",
        "  return x_train, y_train, x_test, y_test"
      ],
      "execution_count": 0,
      "outputs": []
    },
    {
      "cell_type": "markdown",
      "metadata": {
        "id": "jEkjn03i9qm3",
        "colab_type": "text"
      },
      "source": [
        "**Obtener el accuracy en el conjunto de test**\n",
        "\n",
        "La función devuelve el accuracy de un modelo, definido como el porcentaje de etiquetas bien predichas frente al total de etiquetas.\n",
        "\n",
        "Como parámetros es necesario pasarle el vecto de etiquetas verdaderas y el vector de etiquetas predichas en el formato de keras\n",
        "\n",
        "--> matrices donde cada etiqueta ocupa una fila, con un 1 en la posicion de la clase a la que pertenece y un 0 en las demás."
      ]
    },
    {
      "cell_type": "code",
      "metadata": {
        "id": "sfAmEKh8-ZLX",
        "colab_type": "code",
        "colab": {}
      },
      "source": [
        "def calcularAccuracy(labels, preds):\n",
        "  labels = np.argmax(labels, axis=1)\n",
        "  preds = np.argmax(preds, axis=1)\n",
        "  \n",
        "  accuracy = sum(labels==preds)/len(labels)\n",
        "\n",
        "  return accuracy"
      ],
      "execution_count": 0,
      "outputs": []
    },
    {
      "cell_type": "markdown",
      "metadata": {
        "id": "ou5Y3cZp-u40",
        "colab_type": "text"
      },
      "source": [
        "**Gráficas**\n",
        "\n",
        "Gráficas para la evolución de pérdida y el accuracy en train y en validación durante el entrenamiento"
      ]
    },
    {
      "cell_type": "markdown",
      "metadata": {
        "id": "WhdxpxOd_Tt0",
        "colab_type": "text"
      },
      "source": [
        "Esta función pinta dos gráficas:\n",
        "\n",
        "1. Evolución de la función de pérdida en el conjunto de train y en el de validación\n",
        "2. Evolución del accuracy en el conjunto de train y el de validación\n",
        "\n",
        "Necesario --> pasarle como parámetro el historial del entrenamiento del modelo (lo que devuelven fit() y fit_generator()"
      ]
    },
    {
      "cell_type": "code",
      "metadata": {
        "id": "cKp8Ydn3AF4c",
        "colab_type": "code",
        "colab": {}
      },
      "source": [
        "\n",
        "def mostrarEvolucion(hist):\n",
        "  loss = hist.history['loss']\n",
        "  val_loss = hist.history['val_loss']\n",
        "  plt.plot(loss)\n",
        "  plt.plot(val_loss)\n",
        "  plt.legend(['Taining loss', 'Validation loss'])\n",
        "  plt.show()\n",
        "  acc = hist.history['acc']\n",
        "  val_acc = hist.history['val_acc']\n",
        "  plt.plot(acc)\n",
        "  plt.plot(val_acc)\n",
        "  plt.legend(['Training accuracy', 'Validation accuracy'])\n",
        "  plt.show()"
      ],
      "execution_count": 0,
      "outputs": []
    },
    {
      "cell_type": "markdown",
      "metadata": {
        "id": "-zaB2Ap5bx2v",
        "colab_type": "text"
      },
      "source": [
        "# Definición de modelos BaseNet"
      ]
    },
    {
      "cell_type": "markdown",
      "metadata": {
        "id": "iNEMlM6b5CQ-",
        "colab_type": "text"
      },
      "source": [
        "Modelo base_net original, tal y como viene definido en el guion de la práctica"
      ]
    },
    {
      "cell_type": "code",
      "metadata": {
        "id": "9kM_stEOW9EW",
        "colab_type": "code",
        "colab": {}
      },
      "source": [
        "def base_net():\n",
        "  modelo = Sequential()\n",
        "  modelo.add(Conv2D(6, kernel_size=(5,5),\n",
        "                    activation='relu',\n",
        "                    input_shape=(32,32,3)))\n",
        "  modelo.add(MaxPooling2D(pool_size=(2,2)))\n",
        "  modelo.add(Conv2D(16, kernel_size=(5,5),\n",
        "             activation='relu'))\n",
        "  modelo.add(MaxPooling2D(pool_size=(2,2)))\n",
        "  modelo.add(Flatten())\n",
        "  modelo.add(Dense(50, activation='relu'))\n",
        "  modelo.add(Dense(25, activation='softmax'))\n",
        "\n",
        "  return modelo"
      ],
      "execution_count": 0,
      "outputs": []
    },
    {
      "cell_type": "markdown",
      "metadata": {
        "id": "GA6yEUrX5JqV",
        "colab_type": "text"
      },
      "source": [
        "MEJORA CAPAS DE CONVOLUCIÓN --> Añadimos más capas de convolución, éstas con un filtro más pequeño, con el fin de hacer la red más profunda"
      ]
    },
    {
      "cell_type": "code",
      "metadata": {
        "id": "hr8sKcM4tcj_",
        "colab_type": "code",
        "colab": {}
      },
      "source": [
        "def base_net_convolucion():\n",
        "  modelo = Sequential()\n",
        "  modelo.add(Conv2D(32,\n",
        "                    kernel_size=(3,3),\n",
        "                    activation='relu',\n",
        "                    input_shape=(32,32,3)))\n",
        "\n",
        "  modelo.add(Conv2D(32,\n",
        "                    kernel_size=(3,3),\n",
        "                    activation='relu'))\n",
        "  modelo.add(MaxPooling2D(pool_size=(2,2)))\n",
        "\n",
        "  modelo.add(Conv2D(64,\n",
        "                    kernel_size=(3,3),\n",
        "                    activation='relu'))\n",
        "\n",
        "  modelo.add(Conv2D(64,\n",
        "                    kernel_size=(3,3),\n",
        "                    activation='relu'))\n",
        "  modelo.add(MaxPooling2D(pool_size=(2,2)))\n",
        "\n",
        "  modelo.add(Conv2D(128,\n",
        "                    kernel_size=(3,3),\n",
        "                    activation='relu'))\n",
        "  modelo.add(MaxPooling2D(pool_size=(2,2)))\n",
        "\n",
        "  modelo.add(Flatten())\n",
        "  modelo.add(Dense(256, activation='relu'))\n",
        "  modelo.add(Dense(25, activation='softmax'))\n",
        "\n",
        "  return modelo"
      ],
      "execution_count": 0,
      "outputs": []
    },
    {
      "cell_type": "markdown",
      "metadata": {
        "id": "UcUI4xtD5YIp",
        "colab_type": "text"
      },
      "source": [
        "MEJORA CAPAS BATCH NORMALIZATION --> Añadimos capasde batch normalization tras las capas convolucionales y lineales"
      ]
    },
    {
      "cell_type": "code",
      "metadata": {
        "id": "APHzRMriuVR2",
        "colab_type": "code",
        "colab": {}
      },
      "source": [
        "def base_net_batch_normalization():\n",
        "  modelo = Sequential()\n",
        "  modelo.add(Conv2D(32,\n",
        "                    kernel_size=(3,3),\n",
        "                    activation='relu',\n",
        "                    input_shape=(32,32,3)))\n",
        "  modelo.add(BatchNormalization())\n",
        "\n",
        "  modelo.add(Conv2D(32,\n",
        "                    kernel_size=(3,3),\n",
        "                    activation='relu'))\n",
        "  modelo.add(BatchNormalization())\n",
        "  modelo.add(MaxPooling2D(pool_size=(2,2)))\n",
        "\n",
        "  modelo.add(Conv2D(64,\n",
        "                    kernel_size=(3,3),\n",
        "                    activation='relu'))\n",
        "  modelo.add(BatchNormalization())\n",
        "\n",
        "  modelo.add(Conv2D(64,\n",
        "                    kernel_size=(3,3),\n",
        "                    activation='relu'))\n",
        "  modelo.add(BatchNormalization())\n",
        "  modelo.add(MaxPooling2D(pool_size=(2,2)))\n",
        "\n",
        "  modelo.add(Conv2D(128,\n",
        "                    kernel_size=(3,3),\n",
        "                    activation='relu'))\n",
        "  modelo.add(BatchNormalization())\n",
        "  modelo.add(MaxPooling2D(pool_size=(2,2)))\n",
        "\n",
        "  modelo.add(Flatten())\n",
        "  modelo.add(Dense(256, activation='relu'))\n",
        "  modelo.add(Dense(25, activation='softmax'))\n",
        "\n",
        "  return modelo\n"
      ],
      "execution_count": 0,
      "outputs": []
    },
    {
      "cell_type": "markdown",
      "metadata": {
        "id": "HDAQCfm35ho6",
        "colab_type": "text"
      },
      "source": [
        "EXPERIMENTACION CAPAS BATCH NORMALIZATION DESPÚES DE ACTIVACIÓN--> Añadimos capas de batch normalization tras las activaciones, para esto hemos \"dividido\" lo que antes eran capas de convolución + activación en dos capas separadas, para en medio añadir una capa de batch normalization extra"
      ]
    },
    {
      "cell_type": "code",
      "metadata": {
        "id": "KQuNvXosws9W",
        "colab_type": "code",
        "colab": {}
      },
      "source": [
        "def base_net_batch_normalization_despues():\n",
        "  modelo = Sequential()\n",
        "  modelo.add(Conv2D(32,\n",
        "                    kernel_size=(3,3),\n",
        "                    input_shape=(32,32,3)))\n",
        "  modelo.add(BatchNormalization())\n",
        "  modelo.add(Activation('relu'))\n",
        "  modelo.add(BatchNormalization())\n",
        "  modelo.add(Conv2D(32,\n",
        "                    kernel_size=(3,3)))\n",
        "  modelo.add(BatchNormalization())\n",
        "  modelo.add(Activation('relu'))\n",
        "  modelo.add(BatchNormalization())\n",
        "  modelo.add(MaxPooling2D(pool_size=(2,2)))\n",
        "\n",
        "  modelo.add(Conv2D(64,\n",
        "                    kernel_size=(3,3)))\n",
        "  modelo.add(BatchNormalization())\n",
        "  modelo.add(Activation('relu'))\n",
        "  modelo.add(BatchNormalization())\n",
        "\n",
        "  modelo.add(Conv2D(64,\n",
        "                    kernel_size=(3,3)))\n",
        "  modelo.add(BatchNormalization())\n",
        "  modelo.add(Activation('relu'))\n",
        "  modelo.add(BatchNormalization())\n",
        "  modelo.add(MaxPooling2D(pool_size=(2,2)))\n",
        "\n",
        "  modelo.add(Conv2D(128,\n",
        "                    kernel_size=(3,3)))\n",
        "  modelo.add(BatchNormalization())\n",
        "  modelo.add(Activation('relu'))\n",
        "  modelo.add(BatchNormalization())\n",
        "  modelo.add(MaxPooling2D(pool_size=(2,2)))\n",
        "\n",
        "  modelo.add(Flatten())\n",
        "  modelo.add(Dense(256, activation='relu'))\n",
        "  modelo.add(BatchNormalization())\n",
        "  modelo.add(Dense(25, activation='softmax'))\n",
        "\n",
        "  return modelo"
      ],
      "execution_count": 0,
      "outputs": []
    },
    {
      "cell_type": "markdown",
      "metadata": {
        "id": "g_xWaKtR55Ur",
        "colab_type": "text"
      },
      "source": [
        "MEJORA CAPA DROPOUT --> Añadimos capas dropout después de las capas maxpooling de 0.25 con el fin de prevenir el overfitting"
      ]
    },
    {
      "cell_type": "code",
      "metadata": {
        "id": "1javiEitG88F",
        "colab_type": "code",
        "colab": {}
      },
      "source": [
        "def base_net_2():\n",
        "  modelo = Sequential()\n",
        "  modelo.add(Conv2D(32,\n",
        "                    kernel_size=(3,3),\n",
        "                    activation='relu',\n",
        "                    input_shape=(32,32,3)))\n",
        "  modelo.add(BatchNormalization())\n",
        "\n",
        "  modelo.add(Conv2D(32,\n",
        "                    kernel_size=(3,3),\n",
        "                    activation='relu'))\n",
        "  modelo.add(BatchNormalization())\n",
        "  modelo.add(MaxPooling2D(pool_size=(2,2)))\n",
        "  modelo.add(Dropout(0.25))\n",
        "\n",
        "  modelo.add(Conv2D(64,\n",
        "                    kernel_size=(3,3),\n",
        "                    activation='relu'))\n",
        "  modelo.add(BatchNormalization())\n",
        "\n",
        "  modelo.add(Conv2D(64,\n",
        "                    kernel_size=(3,3),\n",
        "                    activation='relu'))\n",
        "  modelo.add(BatchNormalization())\n",
        "  modelo.add(MaxPooling2D(pool_size=(2,2)))\n",
        "  modelo.add(Dropout(0.25))\n",
        "\n",
        "  modelo.add(Conv2D(128,\n",
        "                    kernel_size=(3,3),\n",
        "                    activation='relu'))\n",
        "  modelo.add(BatchNormalization())\n",
        "  modelo.add(MaxPooling2D(pool_size=(2,2)))\n",
        "  modelo.add(Dropout(0.25))\n",
        "\n",
        "  modelo.add(Flatten())\n",
        "  modelo.add(Dense(256, activation='relu'))\n",
        "  modelo.add(Dense(25, activation='softmax'))\n",
        "\n",
        "  return modelo\n"
      ],
      "execution_count": 0,
      "outputs": []
    },
    {
      "cell_type": "markdown",
      "metadata": {
        "id": "q5X0HbFJEKKD",
        "colab_type": "text"
      },
      "source": [
        "# Entrenamiento\n"
      ]
    },
    {
      "cell_type": "markdown",
      "metadata": {
        "id": "D9w3Jurw6NJc",
        "colab_type": "text"
      },
      "source": [
        "Compilación y entrenamiento básico con fit() "
      ]
    },
    {
      "cell_type": "code",
      "metadata": {
        "id": "SDp3DmtQYu_e",
        "colab_type": "code",
        "colab": {}
      },
      "source": [
        "def entrenamiento_1(modelo, batch_size, epocas):\n",
        "  #Optimizador\n",
        "  opt = SGD(lr=0.01, momentum = 0.9, decay=1e-6, nesterov=True )\n",
        "  #Compilación\n",
        "  modelo.compile(opt, loss='categorical_crossentropy', metrics=['accuracy'])\n",
        "  weights = modelo.get_weights()\n",
        "\n",
        "  x_train, y_train, x_test, y_test = cargarImagenes()\n",
        "  histograma = modelo.fit(x_train,\n",
        "                          y_train,\n",
        "                          batch_size=batch_size,\n",
        "                          epochs = epocas,\n",
        "                          verbose=1,\n",
        "                          validation_data=(x_test,y_test))\n",
        "  score = modelo.evaluate(x_test, y_test, verbose=0)\n",
        "  print('Test loss', score[0])\n",
        "  print('Test accuracy', score[1])\n",
        "  return histograma, weights\n"
      ],
      "execution_count": 0,
      "outputs": []
    },
    {
      "cell_type": "markdown",
      "metadata": {
        "id": "dWiYb3Ld6XpP",
        "colab_type": "text"
      },
      "source": [
        "MEJORA ENTRENAMIENTO NORMALIZACIÓN --> preprocesamos los datos normalizándolos con los parámetros featurewise_std_normalization y feature_wise_center para conseguir media 0 y desviación estándar 1. Además separamos el 10% para los datos de validación"
      ]
    },
    {
      "cell_type": "code",
      "metadata": {
        "id": "gO0DlqPOMH80",
        "colab_type": "code",
        "colab": {}
      },
      "source": [
        "def entrenamiento_normalizacion(modelo, batch_size, epocas):\n",
        "  #Optimizador\n",
        "  opt = SGD(lr=0.01, momentum = 0.9, decay=1e-6, nesterov=True )\n",
        "  #Compilación\n",
        "  modelo.compile(opt, loss='categorical_crossentropy', metrics=['accuracy'])\n",
        "  weights = modelo.get_weights()\n",
        "\n",
        "  x_train, y_train, x_test, y_test = cargarImagenes()\n",
        "  #Data augmentation\n",
        "  #Dividimos el conjunto de entrenamiento en un 90% entrenamiento y 10% validación\n",
        "  datagen = ImageDataGenerator(featurewise_center = True,\n",
        "                              featurewise_std_normalization = True,\n",
        "                               validation_split = 0.1\n",
        "                               )\n",
        "  #Como hemos normalizado con media 0 y varianza 1, es necesario usar fit()\n",
        "  #sobre el generador creado\n",
        "  datagen.fit(x_train)\n",
        "  #Debemos normalizar el conjunto test con los mismos parámetros que hemos\n",
        "  #usado para train\n",
        "  datagen.standardize(x_test)\n",
        "\n",
        "  h = modelo.fit_generator(\n",
        "                    generator = datagen.flow(\n",
        "                                      x_train,\n",
        "                                      y_train,\n",
        "                                      batch_size = batch_size,\n",
        "                                      subset='training'),\n",
        "                    steps_per_epoch = len(x_train)*0.9/batch_size,\n",
        "                    epochs=epocas,\n",
        "                    validation_data = datagen.flow(\n",
        "                                      x_train,\n",
        "                                      y_train,\n",
        "                                      batch_size=batch_size,\n",
        "                                      subset='validation'),\n",
        "                       validation_steps = len(x_train)*0.1/32\n",
        "                       )\n",
        "  score = modelo.evaluate(x_test, y_test, verbose=0)\n",
        "  print('Test loss', score[0])\n",
        "  print('Test accuracy', score[1])\n",
        "  return h, weights\n"
      ],
      "execution_count": 0,
      "outputs": []
    },
    {
      "cell_type": "markdown",
      "metadata": {
        "id": "c06q5Wfn7Ohw",
        "colab_type": "text"
      },
      "source": [
        "MEJORA DATA AUGMENTATION --> Utilizamos la clase ImageDataGenerator ahora para realizar transformaciones en las imágenes, tales como traslación, rotación, cambios de escala, cizallamiento y volteados horizontales o verticales."
      ]
    },
    {
      "cell_type": "code",
      "metadata": {
        "id": "qWQiRtleHopD",
        "colab_type": "code",
        "colab": {}
      },
      "source": [
        "def entrenamiento_data_augmentation(modelo, batch_size, epocas):\n",
        "  #Optimizador\n",
        "  opt = SGD(lr=0.01, momentum = 0.9, decay=1e-6, nesterov=True )\n",
        "  #Compilación\n",
        "  modelo.compile(opt, loss='categorical_crossentropy', metrics=['accuracy'])\n",
        "  weights = modelo.get_weights()\n",
        "\n",
        "  x_train, y_train, x_test, y_test = cargarImagenes()\n",
        "  #Data augmentation\n",
        "  #Dividimos el conjunto de entrenamiento en un 90% entrenamiento y 10% validación\n",
        "  datagen = ImageDataGenerator(featurewise_center = True,\n",
        "                               featurewise_std_normalization = True,\n",
        "                               validation_split = 0.1,\n",
        "                               zoom_range=0.15,\n",
        "                               horizontal_flip=True,\n",
        "                               fill_mode=\"nearest\",\n",
        "                               width_shift_range=0.2,\n",
        "                               height_shift_range=0.2\n",
        "                               )\n",
        "  #Como hemos normalizado con media 0 y varianza 1, es necesario usar fit()\n",
        "  #sobre el generador creado\n",
        "  datagen.fit(x_train)\n",
        "  #Debemos normalizar el conjunto test con los mismos parámetros que hemos\n",
        "  #usado para train\n",
        "  datagen.standardize(x_test)\n",
        "\n",
        "  h = modelo.fit_generator(\n",
        "                    generator = datagen.flow(\n",
        "                                      x_train,\n",
        "                                      y_train,\n",
        "                                      batch_size = batch_size,\n",
        "                                      subset='training'),\n",
        "                    steps_per_epoch = len(x_train)*0.9/batch_size,\n",
        "                    epochs=epocas,\n",
        "                    validation_data = datagen.flow(\n",
        "                                      x_train,\n",
        "                                      y_train,\n",
        "                                      batch_size=batch_size,\n",
        "                                      subset='validation'),\n",
        "                       validation_steps = len(x_train)*0.1/32\n",
        "                       )\n",
        "  score = modelo.evaluate(x_test, y_test, verbose=0)\n",
        "  print('Test loss', score[0])\n",
        "  print('Test accuracy', score[1])\n",
        "  return h, weights"
      ],
      "execution_count": 0,
      "outputs": []
    },
    {
      "cell_type": "markdown",
      "metadata": {
        "id": "NfEpXtaF7dri",
        "colab_type": "text"
      },
      "source": [
        "MEJORA EARLY STOPPING --> Añadimos un callback para utilzar EarlyStopping\n",
        "Queremos minimizar el loss y maximizar la accuracy, quedándonos con los mejores pesos y dándole una \"paciencia\" de 5 épocas"
      ]
    },
    {
      "cell_type": "code",
      "metadata": {
        "id": "hVBD-OKbR599",
        "colab_type": "code",
        "colab": {}
      },
      "source": [
        "def entrenamiento_early_stopping(modelo, batch_size, epocas):\n",
        "  #Optimizador\n",
        "  opt = SGD(lr=0.01, momentum = 0.9, decay=1e-6, nesterov=True )\n",
        "  #Compilación\n",
        "  modelo.compile(opt, loss='categorical_crossentropy', metrics=['accuracy'])\n",
        "  weights = modelo.get_weights()\n",
        "\n",
        "  x_train, y_train, x_test, y_test = cargarImagenes()\n",
        "  #Data augmentation\n",
        "  #Dividimos el conjunto de entrenamiento en un 90% entrenamiento y 10% validación\n",
        "  datagen = ImageDataGenerator(featurewise_center = True,\n",
        "                               featurewise_std_normalization = True,\n",
        "                               validation_split = 0.1,\n",
        "                               zoom_range=0.15,\n",
        "                               horizontal_flip=True,\n",
        "                               fill_mode=\"nearest\",\n",
        "                               width_shift_range=0.2,\n",
        "                               height_shift_range=0.2\n",
        "                               )\n",
        "  #Como hemos normalizado con media 0 y varianza 1, es necesario usar fit()\n",
        "  #sobre el generador creado\n",
        "  datagen.fit(x_train)\n",
        "  #Debemos normalizar el conjunto test con los mismos parámetros que hemos\n",
        "  #usado para train\n",
        "  datagen.standardize(x_test)\n",
        "\n",
        "  h = modelo.fit_generator(\n",
        "                    generator = datagen.flow(\n",
        "                                      x_train,\n",
        "                                      y_train,\n",
        "                                      batch_size = batch_size,\n",
        "                                      subset='training'),\n",
        "                    steps_per_epoch = len(x_train)*0.9/batch_size,\n",
        "                    epochs=epocas,\n",
        "                    validation_data = datagen.flow(\n",
        "                                      x_train,\n",
        "                                      y_train,\n",
        "                                      batch_size=batch_size,\n",
        "                                      subset='validation'),\n",
        "                    validation_steps = len(x_train)*0.1/32,\n",
        "                    callbacks = [EarlyStopping(monitor='val_loss', mode='min', patience=5, restore_best_weights = True, verbose=1), ModelCheckpoint(monitor = 'val_acc', filepath = 'mejores.hdf5', mode = 'max', save_best_only=True, ) ]\n",
        "                       )\n",
        "  score = modelo.evaluate(x_test, y_test, verbose=0)\n",
        "  print('Test loss', score[0])\n",
        "  print('Test accuracy', score[1])\n",
        "  return h, weights"
      ],
      "execution_count": 0,
      "outputs": []
    },
    {
      "cell_type": "markdown",
      "metadata": {
        "id": "Iv4PZlTOEhGk",
        "colab_type": "text"
      },
      "source": [
        "Una vez tenemos el modelo base, antes de entrenar guardamos los pasos aleatorios con los que empieza la red para poder reestablecerlos después y poder comparar los resultados entre no usar mejoras y sí usar"
      ]
    },
    {
      "cell_type": "markdown",
      "metadata": {
        "id": "RTj03KEV3SEk",
        "colab_type": "text"
      },
      "source": [
        "# Ejercicios"
      ]
    },
    {
      "cell_type": "markdown",
      "metadata": {
        "id": "bW0JJfy0cGrK",
        "colab_type": "text"
      },
      "source": [
        "## Ejercicio 1"
      ]
    },
    {
      "cell_type": "code",
      "metadata": {
        "id": "jWphAwa73VPs",
        "colab_type": "code",
        "outputId": "2ccab890-f879-44de-e1a7-ba6a3e05d095",
        "colab": {
          "base_uri": "https://localhost:8080/",
          "height": 1000
        }
      },
      "source": [
        "print(\"--------------Ejercicio 1-----------------\")\n",
        "mi_modelo_1 = base_net()\n",
        "mi_modelo_1.summary()\n",
        "histograma, weights = entrenamiento_1(mi_modelo_1, 32, 50)\n",
        "mostrarEvolucion(histograma)\n",
        "mi_modelo_1.set_weights(weights)\n",
        "input(\"Pulse Enter para continuar\")"
      ],
      "execution_count": 0,
      "outputs": [
        {
          "output_type": "stream",
          "text": [
            "Model: \"sequential_1\"\n",
            "_________________________________________________________________\n",
            "Layer (type)                 Output Shape              Param #   \n",
            "=================================================================\n",
            "conv2d_1 (Conv2D)            (None, 28, 28, 6)         456       \n",
            "_________________________________________________________________\n",
            "max_pooling2d_5 (MaxPooling2 (None, 14, 14, 6)         0         \n",
            "_________________________________________________________________\n",
            "conv2d_2 (Conv2D)            (None, 10, 10, 16)        2416      \n",
            "_________________________________________________________________\n",
            "max_pooling2d_6 (MaxPooling2 (None, 5, 5, 16)          0         \n",
            "_________________________________________________________________\n",
            "flatten_1 (Flatten)          (None, 400)               0         \n",
            "_________________________________________________________________\n",
            "dense_7 (Dense)              (None, 50)                20050     \n",
            "_________________________________________________________________\n",
            "dense_8 (Dense)              (None, 25)                1275      \n",
            "=================================================================\n",
            "Total params: 24,197\n",
            "Trainable params: 24,197\n",
            "Non-trainable params: 0\n",
            "_________________________________________________________________\n",
            "Downloading data from https://www.cs.toronto.edu/~kriz/cifar-100-python.tar.gz\n",
            "169009152/169001437 [==============================] - 11s 0us/step\n",
            "Train on 12500 samples, validate on 2500 samples\n",
            "Epoch 1/50\n",
            "12500/12500 [==============================] - 9s 722us/step - loss: 2.9539 - acc: 0.1401 - val_loss: 2.5479 - val_acc: 0.2628\n",
            "Epoch 2/50\n",
            "12500/12500 [==============================] - 2s 174us/step - loss: 2.4720 - acc: 0.2753 - val_loss: 2.3942 - val_acc: 0.2952\n",
            "Epoch 3/50\n",
            "12500/12500 [==============================] - 2s 174us/step - loss: 2.2801 - acc: 0.3339 - val_loss: 2.3983 - val_acc: 0.2940\n",
            "Epoch 4/50\n",
            "12500/12500 [==============================] - 2s 176us/step - loss: 2.1619 - acc: 0.3620 - val_loss: 2.1832 - val_acc: 0.3548\n",
            "Epoch 5/50\n",
            "12500/12500 [==============================] - 2s 173us/step - loss: 2.0666 - acc: 0.3858 - val_loss: 2.2418 - val_acc: 0.3740\n",
            "Epoch 6/50\n",
            "12500/12500 [==============================] - 2s 176us/step - loss: 1.9791 - acc: 0.4130 - val_loss: 2.1230 - val_acc: 0.3880\n",
            "Epoch 7/50\n",
            "12500/12500 [==============================] - 2s 174us/step - loss: 1.9116 - acc: 0.4267 - val_loss: 2.1488 - val_acc: 0.3872\n",
            "Epoch 8/50\n",
            "12500/12500 [==============================] - 2s 175us/step - loss: 1.8523 - acc: 0.4470 - val_loss: 2.1491 - val_acc: 0.3964\n",
            "Epoch 9/50\n",
            "12500/12500 [==============================] - 2s 172us/step - loss: 1.7858 - acc: 0.4662 - val_loss: 2.2543 - val_acc: 0.3992\n",
            "Epoch 10/50\n",
            "12500/12500 [==============================] - 2s 174us/step - loss: 1.7255 - acc: 0.4774 - val_loss: 2.0602 - val_acc: 0.4112\n",
            "Epoch 11/50\n",
            "12500/12500 [==============================] - 2s 174us/step - loss: 1.6765 - acc: 0.4944 - val_loss: 2.1477 - val_acc: 0.4028\n",
            "Epoch 12/50\n",
            "12500/12500 [==============================] - 2s 173us/step - loss: 1.6300 - acc: 0.5050 - val_loss: 2.0605 - val_acc: 0.4164\n",
            "Epoch 13/50\n",
            "12500/12500 [==============================] - 2s 174us/step - loss: 1.5859 - acc: 0.5205 - val_loss: 2.1441 - val_acc: 0.4168\n",
            "Epoch 14/50\n",
            "12500/12500 [==============================] - 2s 173us/step - loss: 1.5330 - acc: 0.5376 - val_loss: 2.2092 - val_acc: 0.4104\n",
            "Epoch 15/50\n",
            "12500/12500 [==============================] - 2s 173us/step - loss: 1.5002 - acc: 0.5428 - val_loss: 2.1339 - val_acc: 0.4032\n",
            "Epoch 16/50\n",
            "12500/12500 [==============================] - 2s 173us/step - loss: 1.4799 - acc: 0.5498 - val_loss: 2.1034 - val_acc: 0.4140\n",
            "Epoch 17/50\n",
            "12500/12500 [==============================] - 2s 170us/step - loss: 1.4287 - acc: 0.5618 - val_loss: 2.2892 - val_acc: 0.4072\n",
            "Epoch 18/50\n",
            "12500/12500 [==============================] - 2s 176us/step - loss: 1.4030 - acc: 0.5681 - val_loss: 2.1758 - val_acc: 0.4216\n",
            "Epoch 19/50\n",
            "12500/12500 [==============================] - 2s 175us/step - loss: 1.3786 - acc: 0.5778 - val_loss: 2.3009 - val_acc: 0.4124\n",
            "Epoch 20/50\n",
            "12500/12500 [==============================] - 2s 174us/step - loss: 1.3361 - acc: 0.5867 - val_loss: 2.3325 - val_acc: 0.4040\n",
            "Epoch 21/50\n",
            "12500/12500 [==============================] - 2s 180us/step - loss: 1.3209 - acc: 0.5943 - val_loss: 2.3346 - val_acc: 0.4036\n",
            "Epoch 22/50\n",
            "12500/12500 [==============================] - 2s 176us/step - loss: 1.2878 - acc: 0.5990 - val_loss: 2.3530 - val_acc: 0.4168\n",
            "Epoch 23/50\n",
            "12500/12500 [==============================] - 2s 177us/step - loss: 1.2788 - acc: 0.6044 - val_loss: 2.5080 - val_acc: 0.4064\n",
            "Epoch 24/50\n",
            "12500/12500 [==============================] - 2s 173us/step - loss: 1.2363 - acc: 0.6148 - val_loss: 2.5930 - val_acc: 0.3952\n",
            "Epoch 25/50\n",
            "12500/12500 [==============================] - 2s 176us/step - loss: 1.2146 - acc: 0.6232 - val_loss: 2.4926 - val_acc: 0.4040\n",
            "Epoch 26/50\n",
            "12500/12500 [==============================] - 2s 177us/step - loss: 1.2025 - acc: 0.6225 - val_loss: 2.6107 - val_acc: 0.4040\n",
            "Epoch 27/50\n",
            "12500/12500 [==============================] - 2s 176us/step - loss: 1.1775 - acc: 0.6278 - val_loss: 2.6546 - val_acc: 0.3892\n",
            "Epoch 28/50\n",
            "12500/12500 [==============================] - 2s 172us/step - loss: 1.1522 - acc: 0.6391 - val_loss: 2.5777 - val_acc: 0.3916\n",
            "Epoch 29/50\n",
            "12500/12500 [==============================] - 2s 173us/step - loss: 1.1566 - acc: 0.6358 - val_loss: 2.6704 - val_acc: 0.4000\n",
            "Epoch 30/50\n",
            "12500/12500 [==============================] - 2s 172us/step - loss: 1.1413 - acc: 0.6424 - val_loss: 2.5517 - val_acc: 0.3916\n",
            "Epoch 31/50\n",
            "12500/12500 [==============================] - 2s 174us/step - loss: 1.1436 - acc: 0.6436 - val_loss: 2.7134 - val_acc: 0.4024\n",
            "Epoch 32/50\n",
            "12500/12500 [==============================] - 2s 174us/step - loss: 1.0873 - acc: 0.6609 - val_loss: 2.8512 - val_acc: 0.3940\n",
            "Epoch 33/50\n",
            "12500/12500 [==============================] - 2s 172us/step - loss: 1.0950 - acc: 0.6550 - val_loss: 2.8195 - val_acc: 0.3960\n",
            "Epoch 34/50\n",
            "12500/12500 [==============================] - 2s 173us/step - loss: 1.0765 - acc: 0.6588 - val_loss: 2.9886 - val_acc: 0.3876\n",
            "Epoch 35/50\n",
            "12500/12500 [==============================] - 2s 170us/step - loss: 1.1157 - acc: 0.6456 - val_loss: 2.9292 - val_acc: 0.3924\n",
            "Epoch 36/50\n",
            "12500/12500 [==============================] - 2s 168us/step - loss: 1.0632 - acc: 0.6625 - val_loss: 2.9180 - val_acc: 0.3956\n",
            "Epoch 37/50\n",
            "12500/12500 [==============================] - 2s 171us/step - loss: 1.0436 - acc: 0.6677 - val_loss: 3.0526 - val_acc: 0.3768\n",
            "Epoch 38/50\n",
            "12500/12500 [==============================] - 2s 168us/step - loss: 1.0541 - acc: 0.6697 - val_loss: 3.0569 - val_acc: 0.3972\n",
            "Epoch 39/50\n",
            "12500/12500 [==============================] - 2s 170us/step - loss: 1.0342 - acc: 0.6737 - val_loss: 3.1283 - val_acc: 0.3824\n",
            "Epoch 40/50\n",
            "12500/12500 [==============================] - 2s 171us/step - loss: 1.0196 - acc: 0.6810 - val_loss: 3.3819 - val_acc: 0.3900\n",
            "Epoch 41/50\n",
            "12500/12500 [==============================] - 2s 168us/step - loss: 1.0548 - acc: 0.6717 - val_loss: 3.1035 - val_acc: 0.3748\n",
            "Epoch 42/50\n",
            "12500/12500 [==============================] - 2s 171us/step - loss: 1.0342 - acc: 0.6722 - val_loss: 3.2460 - val_acc: 0.3808\n",
            "Epoch 43/50\n",
            "12500/12500 [==============================] - 2s 169us/step - loss: 1.0138 - acc: 0.6798 - val_loss: 3.3643 - val_acc: 0.3768\n",
            "Epoch 44/50\n",
            "12500/12500 [==============================] - 2s 168us/step - loss: 0.9883 - acc: 0.6913 - val_loss: 3.4101 - val_acc: 0.3716\n",
            "Epoch 45/50\n",
            "12500/12500 [==============================] - 2s 169us/step - loss: 1.0081 - acc: 0.6788 - val_loss: 3.3019 - val_acc: 0.3628\n",
            "Epoch 46/50\n",
            "12500/12500 [==============================] - 2s 169us/step - loss: 1.0106 - acc: 0.6874 - val_loss: 3.3049 - val_acc: 0.3564\n",
            "Epoch 47/50\n",
            "12500/12500 [==============================] - 2s 172us/step - loss: 1.0056 - acc: 0.6794 - val_loss: 3.4152 - val_acc: 0.3740\n",
            "Epoch 48/50\n",
            "12500/12500 [==============================] - 2s 170us/step - loss: 0.9965 - acc: 0.6889 - val_loss: 3.4964 - val_acc: 0.3684\n",
            "Epoch 49/50\n",
            "12500/12500 [==============================] - 2s 169us/step - loss: 0.9702 - acc: 0.6926 - val_loss: 3.5039 - val_acc: 0.3676\n",
            "Epoch 50/50\n",
            "12500/12500 [==============================] - 2s 170us/step - loss: 0.9976 - acc: 0.6861 - val_loss: 3.6710 - val_acc: 0.3692\n",
            "Test loss 3.6710149515151977\n",
            "Test accuracy 0.3692\n"
          ],
          "name": "stdout"
        },
        {
          "output_type": "display_data",
          "data": {
            "image/png": "[encoded data removed]",
            "text/plain": [
              "<Figure size 432x288 with 1 Axes>"
            ]
          },
          "metadata": {
            "tags": []
          }
        },
        {
          "output_type": "display_data",
          "data": {
            "image/png": "[encoded data removed]",
            "text/plain": [
              "<Figure size 432x288 with 1 Axes>"
            ]
          },
          "metadata": {
            "tags": []
          }
        }
      ]
    },
    {
      "cell_type": "markdown",
      "metadata": {
        "id": "L-WOtWxCaU7q",
        "colab_type": "text"
      },
      "source": [
        "\n",
        "## Ejercicio 2\n"
      ]
    },
    {
      "cell_type": "code",
      "metadata": {
        "id": "1-hCdG9-tPNy",
        "colab_type": "code",
        "outputId": "a1603f3b-7512-4c1f-883b-a07e91bad1d0",
        "colab": {
          "base_uri": "https://localhost:8080/",
          "height": 1000
        }
      },
      "source": [
        "print(\"--------------Ejercicio 2-----------------\")\n",
        "print(\">>>>>>>>>>>>>>>>>Mejora: Red más profunda \")\n",
        "mi_modelo_2 = base_net_convolucion()\n",
        "mi_modelo_2.summary()\n",
        "histograma, weights = entrenamiento_1(mi_modelo_2, 32, 50)\n",
        "mostrarEvolucion(histograma)\n",
        "mi_modelo_2.set_weights(weights)\n",
        "input(\"Pulse Enter para continuar\")"
      ],
      "execution_count": 0,
      "outputs": [
        {
          "output_type": "stream",
          "text": [
            "--------------Ejercicio 2-----------------\n",
            ">>>>>>>>>>>>>>>>>Mejora: Red más profunda \n",
            "WARNING:tensorflow:From /usr/local/lib/python3.6/dist-packages/keras/backend/tensorflow_backend.py:66: The name tf.get_default_graph is deprecated. Please use tf.compat.v1.get_default_graph instead.\n",
            "\n",
            "WARNING:tensorflow:From /usr/local/lib/python3.6/dist-packages/keras/backend/tensorflow_backend.py:541: The name tf.placeholder is deprecated. Please use tf.compat.v1.placeholder instead.\n",
            "\n",
            "WARNING:tensorflow:From /usr/local/lib/python3.6/dist-packages/keras/backend/tensorflow_backend.py:4432: The name tf.random_uniform is deprecated. Please use tf.random.uniform instead.\n",
            "\n",
            "WARNING:tensorflow:From /usr/local/lib/python3.6/dist-packages/keras/backend/tensorflow_backend.py:4267: The name tf.nn.max_pool is deprecated. Please use tf.nn.max_pool2d instead.\n",
            "\n",
            "Model: \"sequential_1\"\n",
            "_________________________________________________________________\n",
            "Layer (type)                 Output Shape              Param #   \n",
            "=================================================================\n",
            "conv2d_1 (Conv2D)            (None, 30, 30, 32)        896       \n",
            "_________________________________________________________________\n",
            "conv2d_2 (Conv2D)            (None, 28, 28, 32)        9248      \n",
            "_________________________________________________________________\n",
            "max_pooling2d_1 (MaxPooling2 (None, 14, 14, 32)        0         \n",
            "_________________________________________________________________\n",
            "conv2d_3 (Conv2D)            (None, 12, 12, 64)        18496     \n",
            "_________________________________________________________________\n",
            "conv2d_4 (Conv2D)            (None, 10, 10, 64)        36928     \n",
            "_________________________________________________________________\n",
            "max_pooling2d_2 (MaxPooling2 (None, 5, 5, 64)          0         \n",
            "_________________________________________________________________\n",
            "conv2d_5 (Conv2D)            (None, 3, 3, 128)         73856     \n",
            "_________________________________________________________________\n",
            "max_pooling2d_3 (MaxPooling2 (None, 1, 1, 128)         0         \n",
            "_________________________________________________________________\n",
            "flatten_1 (Flatten)          (None, 128)               0         \n",
            "_________________________________________________________________\n",
            "dense_1 (Dense)              (None, 256)               33024     \n",
            "_________________________________________________________________\n",
            "dense_2 (Dense)              (None, 25)                6425      \n",
            "=================================================================\n",
            "Total params: 178,873\n",
            "Trainable params: 178,873\n",
            "Non-trainable params: 0\n",
            "_________________________________________________________________\n",
            "WARNING:tensorflow:From /usr/local/lib/python3.6/dist-packages/keras/optimizers.py:793: The name tf.train.Optimizer is deprecated. Please use tf.compat.v1.train.Optimizer instead.\n",
            "\n",
            "WARNING:tensorflow:From /usr/local/lib/python3.6/dist-packages/keras/backend/tensorflow_backend.py:3576: The name tf.log is deprecated. Please use tf.math.log instead.\n",
            "\n",
            "WARNING:tensorflow:From /usr/local/lib/python3.6/dist-packages/keras/backend/tensorflow_backend.py:190: The name tf.get_default_session is deprecated. Please use tf.compat.v1.get_default_session instead.\n",
            "\n",
            "WARNING:tensorflow:From /usr/local/lib/python3.6/dist-packages/keras/backend/tensorflow_backend.py:197: The name tf.ConfigProto is deprecated. Please use tf.compat.v1.ConfigProto instead.\n",
            "\n",
            "WARNING:tensorflow:From /usr/local/lib/python3.6/dist-packages/keras/backend/tensorflow_backend.py:203: The name tf.Session is deprecated. Please use tf.compat.v1.Session instead.\n",
            "\n",
            "WARNING:tensorflow:From /usr/local/lib/python3.6/dist-packages/keras/backend/tensorflow_backend.py:207: The name tf.global_variables is deprecated. Please use tf.compat.v1.global_variables instead.\n",
            "\n",
            "WARNING:tensorflow:From /usr/local/lib/python3.6/dist-packages/keras/backend/tensorflow_backend.py:216: The name tf.is_variable_initialized is deprecated. Please use tf.compat.v1.is_variable_initialized instead.\n",
            "\n",
            "WARNING:tensorflow:From /usr/local/lib/python3.6/dist-packages/keras/backend/tensorflow_backend.py:223: The name tf.variables_initializer is deprecated. Please use tf.compat.v1.variables_initializer instead.\n",
            "\n",
            "Downloading data from https://www.cs.toronto.edu/~kriz/cifar-100-python.tar.gz\n",
            "169009152/169001437 [==============================] - 2s 0us/step\n",
            "WARNING:tensorflow:From /usr/local/lib/python3.6/dist-packages/tensorflow_core/python/ops/math_grad.py:1424: where (from tensorflow.python.ops.array_ops) is deprecated and will be removed in a future version.\n",
            "Instructions for updating:\n",
            "Use tf.where in 2.0, which has the same broadcast rule as np.where\n",
            "WARNING:tensorflow:From /usr/local/lib/python3.6/dist-packages/keras/backend/tensorflow_backend.py:1033: The name tf.assign_add is deprecated. Please use tf.compat.v1.assign_add instead.\n",
            "\n",
            "WARNING:tensorflow:From /usr/local/lib/python3.6/dist-packages/keras/backend/tensorflow_backend.py:1020: The name tf.assign is deprecated. Please use tf.compat.v1.assign instead.\n",
            "\n",
            "Train on 12500 samples, validate on 2500 samples\n",
            "Epoch 1/50\n",
            "12500/12500 [==============================] - 7s 554us/step - loss: 3.0640 - acc: 0.1039 - val_loss: 2.8807 - val_acc: 0.1356\n",
            "Epoch 2/50\n",
            "12500/12500 [==============================] - 3s 207us/step - loss: 2.6537 - acc: 0.2216 - val_loss: 2.4669 - val_acc: 0.2656\n",
            "Epoch 3/50\n",
            "12500/12500 [==============================] - 3s 209us/step - loss: 2.4023 - acc: 0.2934 - val_loss: 2.2665 - val_acc: 0.3368\n",
            "Epoch 4/50\n",
            "12500/12500 [==============================] - 3s 215us/step - loss: 2.1863 - acc: 0.3583 - val_loss: 2.1192 - val_acc: 0.3820\n",
            "Epoch 5/50\n",
            "12500/12500 [==============================] - 3s 214us/step - loss: 2.0207 - acc: 0.4016 - val_loss: 2.0272 - val_acc: 0.4164\n",
            "Epoch 6/50\n",
            "12500/12500 [==============================] - 3s 210us/step - loss: 1.8768 - acc: 0.4369 - val_loss: 2.0212 - val_acc: 0.4004\n",
            "Epoch 7/50\n",
            "12500/12500 [==============================] - 3s 215us/step - loss: 1.7310 - acc: 0.4811 - val_loss: 2.0700 - val_acc: 0.4036\n",
            "Epoch 8/50\n",
            "12500/12500 [==============================] - 3s 211us/step - loss: 1.6277 - acc: 0.5083 - val_loss: 1.9280 - val_acc: 0.4240\n",
            "Epoch 9/50\n",
            "12500/12500 [==============================] - 3s 208us/step - loss: 1.5178 - acc: 0.5385 - val_loss: 1.8926 - val_acc: 0.4532\n",
            "Epoch 10/50\n",
            "12500/12500 [==============================] - 3s 213us/step - loss: 1.4053 - acc: 0.5674 - val_loss: 1.9064 - val_acc: 0.4540\n",
            "Epoch 11/50\n",
            "12500/12500 [==============================] - 3s 212us/step - loss: 1.3105 - acc: 0.5990 - val_loss: 1.9636 - val_acc: 0.4556\n",
            "Epoch 12/50\n",
            "12500/12500 [==============================] - 3s 221us/step - loss: 1.2314 - acc: 0.6138 - val_loss: 1.9084 - val_acc: 0.4756\n",
            "Epoch 13/50\n",
            "12500/12500 [==============================] - 3s 214us/step - loss: 1.1276 - acc: 0.6445 - val_loss: 1.9416 - val_acc: 0.4816\n",
            "Epoch 14/50\n",
            "12500/12500 [==============================] - 3s 221us/step - loss: 1.0754 - acc: 0.6581 - val_loss: 2.1799 - val_acc: 0.4704\n",
            "Epoch 15/50\n",
            "12500/12500 [==============================] - 3s 207us/step - loss: 0.9862 - acc: 0.6858 - val_loss: 2.1884 - val_acc: 0.4548\n",
            "Epoch 16/50\n",
            "12500/12500 [==============================] - 3s 210us/step - loss: 0.9524 - acc: 0.7001 - val_loss: 2.1430 - val_acc: 0.4708\n",
            "Epoch 17/50\n",
            "12500/12500 [==============================] - 3s 212us/step - loss: 0.9064 - acc: 0.7147 - val_loss: 2.3639 - val_acc: 0.4576\n",
            "Epoch 18/50\n",
            "12500/12500 [==============================] - 3s 212us/step - loss: 0.8562 - acc: 0.7269 - val_loss: 2.3861 - val_acc: 0.4600\n",
            "Epoch 19/50\n",
            "12500/12500 [==============================] - 3s 210us/step - loss: 0.8419 - acc: 0.7369 - val_loss: 2.2716 - val_acc: 0.4516\n",
            "Epoch 20/50\n",
            "12500/12500 [==============================] - 3s 203us/step - loss: 0.8172 - acc: 0.7445 - val_loss: 2.4810 - val_acc: 0.4644\n",
            "Epoch 21/50\n",
            "12500/12500 [==============================] - 3s 212us/step - loss: 0.7990 - acc: 0.7468 - val_loss: 2.7879 - val_acc: 0.4348\n",
            "Epoch 22/50\n",
            "12500/12500 [==============================] - 3s 212us/step - loss: 0.7644 - acc: 0.7620 - val_loss: 2.6768 - val_acc: 0.4548\n",
            "Epoch 23/50\n",
            "12500/12500 [==============================] - 3s 212us/step - loss: 0.7616 - acc: 0.7598 - val_loss: 2.5858 - val_acc: 0.4388\n",
            "Epoch 24/50\n",
            "12500/12500 [==============================] - 3s 212us/step - loss: 0.7554 - acc: 0.7651 - val_loss: 2.6778 - val_acc: 0.4564\n",
            "Epoch 25/50\n",
            "12500/12500 [==============================] - 3s 209us/step - loss: 0.7488 - acc: 0.7659 - val_loss: 2.8339 - val_acc: 0.4436\n",
            "Epoch 26/50\n",
            "12500/12500 [==============================] - 3s 209us/step - loss: 0.8177 - acc: 0.7507 - val_loss: 2.7050 - val_acc: 0.4552\n",
            "Epoch 27/50\n",
            "12500/12500 [==============================] - 3s 210us/step - loss: 0.7516 - acc: 0.7703 - val_loss: 2.6350 - val_acc: 0.4456\n",
            "Epoch 28/50\n",
            "12500/12500 [==============================] - 3s 208us/step - loss: 0.7516 - acc: 0.7709 - val_loss: 3.1178 - val_acc: 0.4184\n",
            "Epoch 29/50\n",
            "12500/12500 [==============================] - 3s 216us/step - loss: 0.7536 - acc: 0.7687 - val_loss: 2.8636 - val_acc: 0.4016\n",
            "Epoch 30/50\n",
            "12500/12500 [==============================] - 3s 214us/step - loss: 0.7888 - acc: 0.7638 - val_loss: 2.6042 - val_acc: 0.4472\n",
            "Epoch 31/50\n",
            "12500/12500 [==============================] - 3s 214us/step - loss: 0.7486 - acc: 0.7699 - val_loss: 2.9760 - val_acc: 0.4404\n",
            "Epoch 32/50\n",
            "12500/12500 [==============================] - 3s 211us/step - loss: 0.7569 - acc: 0.7744 - val_loss: 2.7176 - val_acc: 0.4448\n",
            "Epoch 33/50\n",
            "12500/12500 [==============================] - 3s 208us/step - loss: 0.7630 - acc: 0.7737 - val_loss: 2.9382 - val_acc: 0.4356\n",
            "Epoch 34/50\n",
            "12500/12500 [==============================] - 3s 206us/step - loss: 0.7618 - acc: 0.7757 - val_loss: 2.9145 - val_acc: 0.4444\n",
            "Epoch 35/50\n",
            "12500/12500 [==============================] - 3s 214us/step - loss: 0.7679 - acc: 0.7732 - val_loss: 3.0019 - val_acc: 0.4392\n",
            "Epoch 36/50\n",
            "12500/12500 [==============================] - 3s 209us/step - loss: 0.7395 - acc: 0.7790 - val_loss: 3.3499 - val_acc: 0.4024\n",
            "Epoch 37/50\n",
            "12500/12500 [==============================] - 3s 208us/step - loss: 0.7521 - acc: 0.7773 - val_loss: 3.3254 - val_acc: 0.4252\n",
            "Epoch 38/50\n",
            "12500/12500 [==============================] - 3s 213us/step - loss: 0.7983 - acc: 0.7681 - val_loss: 3.5511 - val_acc: 0.4124\n",
            "Epoch 39/50\n",
            "12500/12500 [==============================] - 3s 211us/step - loss: 0.8001 - acc: 0.7648 - val_loss: 3.3410 - val_acc: 0.4304\n",
            "Epoch 40/50\n",
            "12500/12500 [==============================] - 3s 207us/step - loss: 0.7953 - acc: 0.7692 - val_loss: 3.0601 - val_acc: 0.4376\n",
            "Epoch 41/50\n",
            "12500/12500 [==============================] - 3s 210us/step - loss: 0.8609 - acc: 0.7550 - val_loss: 3.0744 - val_acc: 0.4140\n",
            "Epoch 42/50\n",
            "12500/12500 [==============================] - 3s 209us/step - loss: 0.7945 - acc: 0.7694 - val_loss: 3.2935 - val_acc: 0.4304\n",
            "Epoch 43/50\n",
            "12500/12500 [==============================] - 3s 209us/step - loss: 0.8103 - acc: 0.7706 - val_loss: 3.3482 - val_acc: 0.4336\n",
            "Epoch 44/50\n",
            "12500/12500 [==============================] - 3s 211us/step - loss: 0.8430 - acc: 0.7598 - val_loss: 3.0600 - val_acc: 0.4296\n",
            "Epoch 45/50\n",
            "12500/12500 [==============================] - 3s 214us/step - loss: 0.9142 - acc: 0.7405 - val_loss: 2.6899 - val_acc: 0.3244\n",
            "Epoch 46/50\n",
            "12500/12500 [==============================] - 3s 212us/step - loss: 1.0416 - acc: 0.7005 - val_loss: 2.9216 - val_acc: 0.3964\n",
            "Epoch 47/50\n",
            "12500/12500 [==============================] - 3s 211us/step - loss: 0.8639 - acc: 0.7494 - val_loss: 3.0989 - val_acc: 0.4132\n",
            "Epoch 48/50\n",
            "12500/12500 [==============================] - 3s 210us/step - loss: 0.8158 - acc: 0.7678 - val_loss: 3.3245 - val_acc: 0.4120\n",
            "Epoch 49/50\n",
            "12500/12500 [==============================] - 3s 209us/step - loss: 0.8490 - acc: 0.7552 - val_loss: 3.0359 - val_acc: 0.4220\n",
            "Epoch 50/50\n",
            "12500/12500 [==============================] - 3s 213us/step - loss: 0.8462 - acc: 0.7635 - val_loss: 3.4021 - val_acc: 0.4284\n",
            "Test loss 3.4021349731445314\n",
            "Test accuracy 0.4284\n"
          ],
          "name": "stdout"
        },
        {
          "output_type": "display_data",
          "data": {
            "image/png": "[encoded data removed]",
            "text/plain": [
              "<Figure size 432x288 with 1 Axes>"
            ]
          },
          "metadata": {
            "tags": []
          }
        },
        {
          "output_type": "display_data",
          "data": {
            "image/png": "[encoded data removed]",
            "text/plain": [
              "<Figure size 432x288 with 1 Axes>"
            ]
          },
          "metadata": {
            "tags": []
          }
        },
        {
          "output_type": "stream",
          "text": [
            "Pulse Enter para continuar\n"
          ],
          "name": "stdout"
        },
        {
          "output_type": "execute_result",
          "data": {
            "text/plain": [
              "''"
            ]
          },
          "metadata": {
            "tags": []
          },
          "execution_count": 17
        }
      ]
    },
    {
      "cell_type": "code",
      "metadata": {
        "id": "q4XcqWpGwXa5",
        "colab_type": "code",
        "outputId": "b3306b71-b59c-4c84-b53f-acccc29446f1",
        "colab": {
          "base_uri": "https://localhost:8080/",
          "height": 1000
        }
      },
      "source": [
        "print(\">>>>>>>>>>>>>>>>>Mejora: BatchNormalization \")\n",
        "mi_modelo_3 = base_net_batch_normalization()\n",
        "mi_modelo_3.summary()\n",
        "histograma, weights = entrenamiento_1(mi_modelo_3, 32, 50)\n",
        "mostrarEvolucion(histograma)\n",
        "mi_modelo_3.set_weights(weights)\n",
        "input(\"Pulse Enter para continuar\")"
      ],
      "execution_count": 0,
      "outputs": [
        {
          "output_type": "stream",
          "text": [
            ">>>>>>>>>>>>>>>>>Mejora: BatchNormalization \n",
            "WARNING:tensorflow:From /usr/local/lib/python3.6/dist-packages/keras/backend/tensorflow_backend.py:2041: The name tf.nn.fused_batch_norm is deprecated. Please use tf.compat.v1.nn.fused_batch_norm instead.\n",
            "\n",
            "WARNING:tensorflow:From /usr/local/lib/python3.6/dist-packages/keras/backend/tensorflow_backend.py:148: The name tf.placeholder_with_default is deprecated. Please use tf.compat.v1.placeholder_with_default instead.\n",
            "\n",
            "Model: \"sequential_2\"\n",
            "_________________________________________________________________\n",
            "Layer (type)                 Output Shape              Param #   \n",
            "=================================================================\n",
            "conv2d_6 (Conv2D)            (None, 30, 30, 32)        896       \n",
            "_________________________________________________________________\n",
            "batch_normalization_1 (Batch (None, 30, 30, 32)        128       \n",
            "_________________________________________________________________\n",
            "conv2d_7 (Conv2D)            (None, 28, 28, 32)        9248      \n",
            "_________________________________________________________________\n",
            "batch_normalization_2 (Batch (None, 28, 28, 32)        128       \n",
            "_________________________________________________________________\n",
            "max_pooling2d_4 (MaxPooling2 (None, 14, 14, 32)        0         \n",
            "_________________________________________________________________\n",
            "conv2d_8 (Conv2D)            (None, 12, 12, 64)        18496     \n",
            "_________________________________________________________________\n",
            "batch_normalization_3 (Batch (None, 12, 12, 64)        256       \n",
            "_________________________________________________________________\n",
            "conv2d_9 (Conv2D)            (None, 10, 10, 64)        36928     \n",
            "_________________________________________________________________\n",
            "batch_normalization_4 (Batch (None, 10, 10, 64)        256       \n",
            "_________________________________________________________________\n",
            "max_pooling2d_5 (MaxPooling2 (None, 5, 5, 64)          0         \n",
            "_________________________________________________________________\n",
            "conv2d_10 (Conv2D)           (None, 3, 3, 128)         73856     \n",
            "_________________________________________________________________\n",
            "batch_normalization_5 (Batch (None, 3, 3, 128)         512       \n",
            "_________________________________________________________________\n",
            "max_pooling2d_6 (MaxPooling2 (None, 1, 1, 128)         0         \n",
            "_________________________________________________________________\n",
            "flatten_2 (Flatten)          (None, 128)               0         \n",
            "_________________________________________________________________\n",
            "dense_3 (Dense)              (None, 256)               33024     \n",
            "_________________________________________________________________\n",
            "dense_4 (Dense)              (None, 25)                6425      \n",
            "=================================================================\n",
            "Total params: 180,153\n",
            "Trainable params: 179,513\n",
            "Non-trainable params: 640\n",
            "_________________________________________________________________\n",
            "Train on 12500 samples, validate on 2500 samples\n",
            "Epoch 1/50\n",
            "12500/12500 [==============================] - 5s 374us/step - loss: 2.5466 - acc: 0.2631 - val_loss: 2.5258 - val_acc: 0.2668\n",
            "Epoch 2/50\n",
            "12500/12500 [==============================] - 4s 315us/step - loss: 2.0392 - acc: 0.3933 - val_loss: 2.3350 - val_acc: 0.3340\n",
            "Epoch 3/50\n",
            "12500/12500 [==============================] - 4s 307us/step - loss: 1.7348 - acc: 0.4808 - val_loss: 1.7904 - val_acc: 0.4760\n",
            "Epoch 4/50\n",
            "12500/12500 [==============================] - 4s 326us/step - loss: 1.5074 - acc: 0.5456 - val_loss: 1.7776 - val_acc: 0.4696\n",
            "Epoch 5/50\n",
            "12500/12500 [==============================] - 4s 306us/step - loss: 1.3360 - acc: 0.5878 - val_loss: 1.8296 - val_acc: 0.4804\n",
            "Epoch 6/50\n",
            "12500/12500 [==============================] - 4s 321us/step - loss: 1.1800 - acc: 0.6342 - val_loss: 1.8178 - val_acc: 0.4880\n",
            "Epoch 7/50\n",
            "12500/12500 [==============================] - 4s 313us/step - loss: 1.0393 - acc: 0.6745 - val_loss: 1.6482 - val_acc: 0.5408\n",
            "Epoch 8/50\n",
            "12500/12500 [==============================] - 4s 317us/step - loss: 0.8963 - acc: 0.7128 - val_loss: 1.7205 - val_acc: 0.5220\n",
            "Epoch 9/50\n",
            "12500/12500 [==============================] - 4s 316us/step - loss: 0.7727 - acc: 0.7551 - val_loss: 1.7470 - val_acc: 0.5396\n",
            "Epoch 10/50\n",
            "12500/12500 [==============================] - 4s 322us/step - loss: 0.6692 - acc: 0.7815 - val_loss: 1.9702 - val_acc: 0.5156\n",
            "Epoch 11/50\n",
            "12500/12500 [==============================] - 4s 315us/step - loss: 0.5714 - acc: 0.8102 - val_loss: 1.9637 - val_acc: 0.5288\n",
            "Epoch 12/50\n",
            "12500/12500 [==============================] - 4s 304us/step - loss: 0.4741 - acc: 0.8435 - val_loss: 2.0215 - val_acc: 0.5360\n",
            "Epoch 13/50\n",
            "12500/12500 [==============================] - 4s 318us/step - loss: 0.4244 - acc: 0.8570 - val_loss: 2.2035 - val_acc: 0.5224\n",
            "Epoch 14/50\n",
            "12500/12500 [==============================] - 4s 314us/step - loss: 0.3575 - acc: 0.8828 - val_loss: 2.2897 - val_acc: 0.5216\n",
            "Epoch 15/50\n",
            "12500/12500 [==============================] - 4s 316us/step - loss: 0.2673 - acc: 0.9110 - val_loss: 2.3469 - val_acc: 0.5344\n",
            "Epoch 16/50\n",
            "12500/12500 [==============================] - 4s 312us/step - loss: 0.2667 - acc: 0.9075 - val_loss: 2.5413 - val_acc: 0.5292\n",
            "Epoch 17/50\n",
            "12500/12500 [==============================] - 4s 313us/step - loss: 0.2372 - acc: 0.9196 - val_loss: 2.3789 - val_acc: 0.5312\n",
            "Epoch 18/50\n",
            "12500/12500 [==============================] - 4s 313us/step - loss: 0.2484 - acc: 0.9160 - val_loss: 2.5202 - val_acc: 0.5360\n",
            "Epoch 19/50\n",
            "12500/12500 [==============================] - 4s 325us/step - loss: 0.1733 - acc: 0.9411 - val_loss: 2.5177 - val_acc: 0.5500\n",
            "Epoch 20/50\n",
            "12500/12500 [==============================] - 4s 315us/step - loss: 0.1287 - acc: 0.9571 - val_loss: 2.6176 - val_acc: 0.5440\n",
            "Epoch 21/50\n",
            "12500/12500 [==============================] - 4s 311us/step - loss: 0.1368 - acc: 0.9538 - val_loss: 2.7317 - val_acc: 0.5316\n",
            "Epoch 22/50\n",
            "12500/12500 [==============================] - 4s 309us/step - loss: 0.1389 - acc: 0.9530 - val_loss: 2.9048 - val_acc: 0.5104\n",
            "Epoch 23/50\n",
            "12500/12500 [==============================] - 4s 319us/step - loss: 0.1264 - acc: 0.9568 - val_loss: 2.9038 - val_acc: 0.5372\n",
            "Epoch 24/50\n",
            "12500/12500 [==============================] - 4s 327us/step - loss: 0.1218 - acc: 0.9588 - val_loss: 2.8944 - val_acc: 0.5340\n",
            "Epoch 25/50\n",
            "12500/12500 [==============================] - 4s 325us/step - loss: 0.1096 - acc: 0.9643 - val_loss: 2.8616 - val_acc: 0.5472\n",
            "Epoch 26/50\n",
            "12500/12500 [==============================] - 4s 306us/step - loss: 0.1035 - acc: 0.9665 - val_loss: 2.8527 - val_acc: 0.5392\n",
            "Epoch 27/50\n",
            "12500/12500 [==============================] - 4s 323us/step - loss: 0.0885 - acc: 0.9703 - val_loss: 3.0006 - val_acc: 0.5324\n",
            "Epoch 28/50\n",
            "12500/12500 [==============================] - 4s 325us/step - loss: 0.0839 - acc: 0.9712 - val_loss: 3.2626 - val_acc: 0.5160\n",
            "Epoch 29/50\n",
            "12500/12500 [==============================] - 4s 322us/step - loss: 0.0642 - acc: 0.9790 - val_loss: 3.0109 - val_acc: 0.5508\n",
            "Epoch 30/50\n",
            "12500/12500 [==============================] - 4s 310us/step - loss: 0.0747 - acc: 0.9742 - val_loss: 3.0756 - val_acc: 0.5384\n",
            "Epoch 31/50\n",
            "12500/12500 [==============================] - 4s 328us/step - loss: 0.0709 - acc: 0.9784 - val_loss: 3.1291 - val_acc: 0.5364\n",
            "Epoch 32/50\n",
            "12500/12500 [==============================] - 4s 318us/step - loss: 0.0641 - acc: 0.9793 - val_loss: 3.0120 - val_acc: 0.5532\n",
            "Epoch 33/50\n",
            "12500/12500 [==============================] - 4s 314us/step - loss: 0.0542 - acc: 0.9820 - val_loss: 2.9914 - val_acc: 0.5532\n",
            "Epoch 34/50\n",
            "12500/12500 [==============================] - 4s 319us/step - loss: 0.0350 - acc: 0.9898 - val_loss: 3.1778 - val_acc: 0.5480\n",
            "Epoch 35/50\n",
            "12500/12500 [==============================] - 4s 317us/step - loss: 0.0453 - acc: 0.9849 - val_loss: 3.2342 - val_acc: 0.5376\n",
            "Epoch 36/50\n",
            "12500/12500 [==============================] - 4s 307us/step - loss: 0.0512 - acc: 0.9842 - val_loss: 3.3171 - val_acc: 0.5268\n",
            "Epoch 37/50\n",
            "12500/12500 [==============================] - 4s 318us/step - loss: 0.0611 - acc: 0.9798 - val_loss: 3.1745 - val_acc: 0.5400\n",
            "Epoch 38/50\n",
            "12500/12500 [==============================] - 4s 315us/step - loss: 0.0636 - acc: 0.9792 - val_loss: 3.3473 - val_acc: 0.5316\n",
            "Epoch 39/50\n",
            "12500/12500 [==============================] - 4s 317us/step - loss: 0.0546 - acc: 0.9814 - val_loss: 3.1784 - val_acc: 0.5476\n",
            "Epoch 40/50\n",
            "12500/12500 [==============================] - 4s 320us/step - loss: 0.0402 - acc: 0.9859 - val_loss: 3.2576 - val_acc: 0.5528\n",
            "Epoch 41/50\n",
            "12500/12500 [==============================] - 4s 312us/step - loss: 0.0295 - acc: 0.9910 - val_loss: 3.2138 - val_acc: 0.5560\n",
            "Epoch 42/50\n",
            "12500/12500 [==============================] - 4s 314us/step - loss: 0.0360 - acc: 0.9884 - val_loss: 3.2973 - val_acc: 0.5520\n",
            "Epoch 43/50\n",
            "12500/12500 [==============================] - 4s 323us/step - loss: 0.0335 - acc: 0.9886 - val_loss: 3.5221 - val_acc: 0.5412\n",
            "Epoch 44/50\n",
            "12500/12500 [==============================] - 4s 328us/step - loss: 0.0385 - acc: 0.9870 - val_loss: 3.3691 - val_acc: 0.5516\n",
            "Epoch 45/50\n",
            "12500/12500 [==============================] - 4s 308us/step - loss: 0.0329 - acc: 0.9890 - val_loss: 3.3453 - val_acc: 0.5440\n",
            "Epoch 46/50\n",
            "12500/12500 [==============================] - 4s 310us/step - loss: 0.0347 - acc: 0.9891 - val_loss: 3.4553 - val_acc: 0.5388\n",
            "Epoch 47/50\n",
            "12500/12500 [==============================] - 4s 315us/step - loss: 0.0177 - acc: 0.9938 - val_loss: 3.3282 - val_acc: 0.5492\n",
            "Epoch 48/50\n",
            "12500/12500 [==============================] - 4s 318us/step - loss: 0.0216 - acc: 0.9938 - val_loss: 3.3287 - val_acc: 0.5532\n",
            "Epoch 49/50\n",
            "12500/12500 [==============================] - 4s 315us/step - loss: 0.0234 - acc: 0.9918 - val_loss: 3.3738 - val_acc: 0.5532\n",
            "Epoch 50/50\n",
            "12500/12500 [==============================] - 4s 303us/step - loss: 0.0202 - acc: 0.9939 - val_loss: 3.4472 - val_acc: 0.5444\n",
            "Test loss 3.447209222793579\n",
            "Test accuracy 0.5444\n"
          ],
          "name": "stdout"
        },
        {
          "output_type": "display_data",
          "data": {
            "image/png": "[encoded data removed]",
            "text/plain": [
              "<Figure size 432x288 with 1 Axes>"
            ]
          },
          "metadata": {
            "tags": []
          }
        },
        {
          "output_type": "display_data",
          "data": {
            "image/png": "[encoded data removed]",
            "text/plain": [
              "<Figure size 432x288 with 1 Axes>"
            ]
          },
          "metadata": {
            "tags": []
          }
        },
        {
          "output_type": "stream",
          "text": [
            "Pulse Enter para continuar\n"
          ],
          "name": "stdout"
        },
        {
          "output_type": "execute_result",
          "data": {
            "text/plain": [
              "''"
            ]
          },
          "metadata": {
            "tags": []
          },
          "execution_count": 19
        }
      ]
    },
    {
      "cell_type": "code",
      "metadata": {
        "id": "4dmgTKzdy-Y7",
        "colab_type": "code",
        "outputId": "bfeb198f-4206-42f7-c6c3-a1bfd1925f2b",
        "colab": {
          "base_uri": "https://localhost:8080/",
          "height": 1000
        }
      },
      "source": [
        "print(\">>>>>>>>>>>>>>>>>Mejora: BatchNormalization tras capas activación\")\n",
        "mi_modelo_4 = base_net_batch_normalization_despues()\n",
        "mi_modelo_4.summary()\n",
        "histograma, weights = entrenamiento_1(mi_modelo_4, 32, 50)\n",
        "mostrarEvolucion(histograma)\n",
        "mi_modelo_4.set_weights(weights)\n",
        "input(\"Pulse Enter para continuar\")"
      ],
      "execution_count": 0,
      "outputs": [
        {
          "output_type": "stream",
          "text": [
            ">>>>>>>>>>>>>>>>>Mejora: BatchNormalization tras capas activación\n",
            "Model: \"sequential_3\"\n",
            "_________________________________________________________________\n",
            "Layer (type)                 Output Shape              Param #   \n",
            "=================================================================\n",
            "conv2d_11 (Conv2D)           (None, 30, 30, 32)        896       \n",
            "_________________________________________________________________\n",
            "batch_normalization_6 (Batch (None, 30, 30, 32)        128       \n",
            "_________________________________________________________________\n",
            "activation_1 (Activation)    (None, 30, 30, 32)        0         \n",
            "_________________________________________________________________\n",
            "batch_normalization_7 (Batch (None, 30, 30, 32)        128       \n",
            "_________________________________________________________________\n",
            "conv2d_12 (Conv2D)           (None, 28, 28, 32)        9248      \n",
            "_________________________________________________________________\n",
            "batch_normalization_8 (Batch (None, 28, 28, 32)        128       \n",
            "_________________________________________________________________\n",
            "activation_2 (Activation)    (None, 28, 28, 32)        0         \n",
            "_________________________________________________________________\n",
            "batch_normalization_9 (Batch (None, 28, 28, 32)        128       \n",
            "_________________________________________________________________\n",
            "max_pooling2d_7 (MaxPooling2 (None, 14, 14, 32)        0         \n",
            "_________________________________________________________________\n",
            "conv2d_13 (Conv2D)           (None, 12, 12, 64)        18496     \n",
            "_________________________________________________________________\n",
            "batch_normalization_10 (Batc (None, 12, 12, 64)        256       \n",
            "_________________________________________________________________\n",
            "activation_3 (Activation)    (None, 12, 12, 64)        0         \n",
            "_________________________________________________________________\n",
            "batch_normalization_11 (Batc (None, 12, 12, 64)        256       \n",
            "_________________________________________________________________\n",
            "conv2d_14 (Conv2D)           (None, 10, 10, 64)        36928     \n",
            "_________________________________________________________________\n",
            "batch_normalization_12 (Batc (None, 10, 10, 64)        256       \n",
            "_________________________________________________________________\n",
            "activation_4 (Activation)    (None, 10, 10, 64)        0         \n",
            "_________________________________________________________________\n",
            "batch_normalization_13 (Batc (None, 10, 10, 64)        256       \n",
            "_________________________________________________________________\n",
            "max_pooling2d_8 (MaxPooling2 (None, 5, 5, 64)          0         \n",
            "_________________________________________________________________\n",
            "conv2d_15 (Conv2D)           (None, 3, 3, 128)         73856     \n",
            "_________________________________________________________________\n",
            "batch_normalization_14 (Batc (None, 3, 3, 128)         512       \n",
            "_________________________________________________________________\n",
            "activation_5 (Activation)    (None, 3, 3, 128)         0         \n",
            "_________________________________________________________________\n",
            "batch_normalization_15 (Batc (None, 3, 3, 128)         512       \n",
            "_________________________________________________________________\n",
            "max_pooling2d_9 (MaxPooling2 (None, 1, 1, 128)         0         \n",
            "_________________________________________________________________\n",
            "flatten_3 (Flatten)          (None, 128)               0         \n",
            "_________________________________________________________________\n",
            "dense_5 (Dense)              (None, 256)               33024     \n",
            "_________________________________________________________________\n",
            "batch_normalization_16 (Batc (None, 256)               1024      \n",
            "_________________________________________________________________\n",
            "dense_6 (Dense)              (None, 25)                6425      \n",
            "=================================================================\n",
            "Total params: 182,457\n",
            "Trainable params: 180,665\n",
            "Non-trainable params: 1,792\n",
            "_________________________________________________________________\n",
            "Train on 12500 samples, validate on 2500 samples\n",
            "Epoch 1/50\n",
            "12500/12500 [==============================] - 7s 580us/step - loss: 2.6562 - acc: 0.2566 - val_loss: 2.3216 - val_acc: 0.3228\n",
            "Epoch 2/50\n",
            "12500/12500 [==============================] - 6s 476us/step - loss: 2.1530 - acc: 0.3747 - val_loss: 2.2684 - val_acc: 0.3484\n",
            "Epoch 3/50\n",
            "12500/12500 [==============================] - 6s 484us/step - loss: 1.8625 - acc: 0.4462 - val_loss: 1.8887 - val_acc: 0.4596\n",
            "Epoch 4/50\n",
            "12500/12500 [==============================] - 6s 489us/step - loss: 1.6289 - acc: 0.5138 - val_loss: 2.0863 - val_acc: 0.3948\n",
            "Epoch 5/50\n",
            "12500/12500 [==============================] - 6s 466us/step - loss: 1.4321 - acc: 0.5619 - val_loss: 1.8275 - val_acc: 0.4832\n",
            "Epoch 6/50\n",
            "12500/12500 [==============================] - 6s 481us/step - loss: 1.2534 - acc: 0.6155 - val_loss: 1.7458 - val_acc: 0.5140\n",
            "Epoch 7/50\n",
            "12500/12500 [==============================] - 6s 474us/step - loss: 1.1019 - acc: 0.6547 - val_loss: 1.7414 - val_acc: 0.5244\n",
            "Epoch 8/50\n",
            "12500/12500 [==============================] - 6s 467us/step - loss: 0.9676 - acc: 0.6936 - val_loss: 2.0091 - val_acc: 0.4832\n",
            "Epoch 9/50\n",
            "12500/12500 [==============================] - 6s 477us/step - loss: 0.8455 - acc: 0.7272 - val_loss: 1.8348 - val_acc: 0.5244\n",
            "Epoch 10/50\n",
            "12500/12500 [==============================] - 6s 473us/step - loss: 0.7181 - acc: 0.7702 - val_loss: 2.0427 - val_acc: 0.4756\n",
            "Epoch 11/50\n",
            "12500/12500 [==============================] - 6s 477us/step - loss: 0.5923 - acc: 0.8098 - val_loss: 2.0531 - val_acc: 0.5172\n",
            "Epoch 12/50\n",
            "12500/12500 [==============================] - 6s 476us/step - loss: 0.5176 - acc: 0.8292 - val_loss: 2.3259 - val_acc: 0.4848\n",
            "Epoch 13/50\n",
            "12500/12500 [==============================] - 6s 474us/step - loss: 0.4619 - acc: 0.8487 - val_loss: 2.1090 - val_acc: 0.5200\n",
            "Epoch 14/50\n",
            "12500/12500 [==============================] - 6s 475us/step - loss: 0.3827 - acc: 0.8713 - val_loss: 2.1515 - val_acc: 0.5464\n",
            "Epoch 15/50\n",
            "12500/12500 [==============================] - 6s 469us/step - loss: 0.3334 - acc: 0.8914 - val_loss: 2.1897 - val_acc: 0.5288\n",
            "Epoch 16/50\n",
            "12500/12500 [==============================] - 6s 482us/step - loss: 0.2856 - acc: 0.9051 - val_loss: 2.3474 - val_acc: 0.5320\n",
            "Epoch 17/50\n",
            "12500/12500 [==============================] - 6s 481us/step - loss: 0.2520 - acc: 0.9164 - val_loss: 2.3450 - val_acc: 0.5272\n",
            "Epoch 18/50\n",
            "12500/12500 [==============================] - 6s 477us/step - loss: 0.2113 - acc: 0.9310 - val_loss: 2.4173 - val_acc: 0.5500\n",
            "Epoch 19/50\n",
            "12500/12500 [==============================] - 6s 478us/step - loss: 0.1931 - acc: 0.9367 - val_loss: 2.4563 - val_acc: 0.5348\n",
            "Epoch 20/50\n",
            "12500/12500 [==============================] - 6s 476us/step - loss: 0.1904 - acc: 0.9379 - val_loss: 2.4072 - val_acc: 0.5448\n",
            "Epoch 21/50\n",
            "12500/12500 [==============================] - 6s 462us/step - loss: 0.1413 - acc: 0.9526 - val_loss: 2.5482 - val_acc: 0.5380\n",
            "Epoch 22/50\n",
            "12500/12500 [==============================] - 6s 462us/step - loss: 0.1370 - acc: 0.9558 - val_loss: 2.5983 - val_acc: 0.5404\n",
            "Epoch 23/50\n",
            "12500/12500 [==============================] - 6s 481us/step - loss: 0.1217 - acc: 0.9621 - val_loss: 2.6285 - val_acc: 0.5328\n",
            "Epoch 24/50\n",
            "12500/12500 [==============================] - 6s 484us/step - loss: 0.1078 - acc: 0.9658 - val_loss: 2.6437 - val_acc: 0.5388\n",
            "Epoch 25/50\n",
            "12500/12500 [==============================] - 6s 484us/step - loss: 0.0992 - acc: 0.9662 - val_loss: 2.7282 - val_acc: 0.5440\n",
            "Epoch 26/50\n",
            "12500/12500 [==============================] - 6s 485us/step - loss: 0.0971 - acc: 0.9678 - val_loss: 2.6918 - val_acc: 0.5448\n",
            "Epoch 27/50\n",
            "12500/12500 [==============================] - 6s 464us/step - loss: 0.0837 - acc: 0.9738 - val_loss: 2.7953 - val_acc: 0.5448\n",
            "Epoch 28/50\n",
            "12500/12500 [==============================] - 6s 463us/step - loss: 0.0905 - acc: 0.9694 - val_loss: 2.7981 - val_acc: 0.5320\n",
            "Epoch 29/50\n",
            "12500/12500 [==============================] - 6s 490us/step - loss: 0.0893 - acc: 0.9698 - val_loss: 2.7914 - val_acc: 0.5464\n",
            "Epoch 30/50\n",
            "12500/12500 [==============================] - 6s 477us/step - loss: 0.0709 - acc: 0.9783 - val_loss: 2.7933 - val_acc: 0.5348\n",
            "Epoch 31/50\n",
            "12500/12500 [==============================] - 6s 470us/step - loss: 0.0684 - acc: 0.9761 - val_loss: 2.8467 - val_acc: 0.5388\n",
            "Epoch 32/50\n",
            "12500/12500 [==============================] - 6s 489us/step - loss: 0.0689 - acc: 0.9770 - val_loss: 2.8000 - val_acc: 0.5568\n",
            "Epoch 33/50\n",
            "12500/12500 [==============================] - 6s 477us/step - loss: 0.0547 - acc: 0.9824 - val_loss: 2.8599 - val_acc: 0.5436\n",
            "Epoch 34/50\n",
            "12500/12500 [==============================] - 6s 484us/step - loss: 0.0451 - acc: 0.9859 - val_loss: 2.7754 - val_acc: 0.5568\n",
            "Epoch 35/50\n",
            "12500/12500 [==============================] - 6s 489us/step - loss: 0.0509 - acc: 0.9837 - val_loss: 2.7790 - val_acc: 0.5612\n",
            "Epoch 36/50\n",
            "12500/12500 [==============================] - 6s 478us/step - loss: 0.0450 - acc: 0.9862 - val_loss: 2.8708 - val_acc: 0.5504\n",
            "Epoch 37/50\n",
            "12500/12500 [==============================] - 6s 472us/step - loss: 0.0409 - acc: 0.9866 - val_loss: 2.8362 - val_acc: 0.5488\n",
            "Epoch 38/50\n",
            "12500/12500 [==============================] - 6s 469us/step - loss: 0.0390 - acc: 0.9875 - val_loss: 2.8885 - val_acc: 0.5472\n",
            "Epoch 39/50\n",
            "12500/12500 [==============================] - 6s 488us/step - loss: 0.0383 - acc: 0.9874 - val_loss: 2.9188 - val_acc: 0.5532\n",
            "Epoch 40/50\n",
            "12500/12500 [==============================] - 6s 498us/step - loss: 0.0450 - acc: 0.9863 - val_loss: 3.0267 - val_acc: 0.5420\n",
            "Epoch 41/50\n",
            "12500/12500 [==============================] - 6s 515us/step - loss: 0.0446 - acc: 0.9857 - val_loss: 3.0741 - val_acc: 0.5376\n",
            "Epoch 42/50\n",
            "12500/12500 [==============================] - 6s 499us/step - loss: 0.0383 - acc: 0.9873 - val_loss: 3.0233 - val_acc: 0.5468\n",
            "Epoch 43/50\n",
            "12500/12500 [==============================] - 6s 509us/step - loss: 0.0357 - acc: 0.9887 - val_loss: 2.9910 - val_acc: 0.5508\n",
            "Epoch 44/50\n",
            "12500/12500 [==============================] - 6s 481us/step - loss: 0.0297 - acc: 0.9907 - val_loss: 3.0221 - val_acc: 0.5504\n",
            "Epoch 45/50\n",
            "12500/12500 [==============================] - 6s 486us/step - loss: 0.0322 - acc: 0.9895 - val_loss: 3.0121 - val_acc: 0.5548\n",
            "Epoch 46/50\n",
            "12500/12500 [==============================] - 6s 478us/step - loss: 0.0278 - acc: 0.9911 - val_loss: 2.9994 - val_acc: 0.5528\n",
            "Epoch 47/50\n",
            "12500/12500 [==============================] - 6s 473us/step - loss: 0.0320 - acc: 0.9897 - val_loss: 3.1545 - val_acc: 0.5428\n",
            "Epoch 48/50\n",
            "12500/12500 [==============================] - 6s 467us/step - loss: 0.0329 - acc: 0.9889 - val_loss: 3.0860 - val_acc: 0.5624\n",
            "Epoch 49/50\n",
            "12500/12500 [==============================] - 6s 491us/step - loss: 0.0316 - acc: 0.9890 - val_loss: 3.1486 - val_acc: 0.5548\n",
            "Epoch 50/50\n",
            "12500/12500 [==============================] - 6s 488us/step - loss: 0.0262 - acc: 0.9925 - val_loss: 3.1421 - val_acc: 0.5512\n",
            "Test loss 3.1420563453018664\n",
            "Test accuracy 0.5512\n"
          ],
          "name": "stdout"
        },
        {
          "output_type": "display_data",
          "data": {
            "image/png": "[encoded data removed]",
            "text/plain": [
              "<Figure size 432x288 with 1 Axes>"
            ]
          },
          "metadata": {
            "tags": []
          }
        },
        {
          "output_type": "display_data",
          "data": {
            "image/png": "[encoded data removed]",
            "text/plain": [
              "<Figure size 432x288 with 1 Axes>"
            ]
          },
          "metadata": {
            "tags": []
          }
        },
        {
          "output_type": "stream",
          "text": [
            "Pulse Enter para continuar\n"
          ],
          "name": "stdout"
        },
        {
          "output_type": "execute_result",
          "data": {
            "text/plain": [
              "''"
            ]
          },
          "metadata": {
            "tags": []
          },
          "execution_count": 23
        }
      ]
    },
    {
      "cell_type": "code",
      "metadata": {
        "id": "dDma3rLsNTbp",
        "colab_type": "code",
        "outputId": "a827e762-a315-4c03-cda7-c5cbbafe31b2",
        "colab": {
          "base_uri": "https://localhost:8080/",
          "height": 1000
        }
      },
      "source": [
        "print(\">>>>>>>>>>>>>>>>>Mejora: Dropout \")\n",
        "mi_modelo_2 = base_net_2()\n",
        "mi_modelo_2.summary()\n",
        "histograma, weights = entrenamiento_1(mi_modelo_2, 32, 50)\n",
        "mostrarEvolucion(histograma)\n",
        "mi_modelo_2.set_weights(weights)\n",
        "input(\"Pulse Enter para continuar\")"
      ],
      "execution_count": 0,
      "outputs": [
        {
          "output_type": "stream",
          "text": [
            "WARNING:tensorflow:From /usr/local/lib/python3.6/dist-packages/keras/backend/tensorflow_backend.py:3733: calling dropout (from tensorflow.python.ops.nn_ops) with keep_prob is deprecated and will be removed in a future version.\n",
            "Instructions for updating:\n",
            "Please use `rate` instead of `keep_prob`. Rate should be set to `rate = 1 - keep_prob`.\n",
            "Model: \"sequential_5\"\n",
            "_________________________________________________________________\n",
            "Layer (type)                 Output Shape              Param #   \n",
            "=================================================================\n",
            "conv2d_9 (Conv2D)            (None, 30, 30, 32)        896       \n",
            "_________________________________________________________________\n",
            "batch_normalization_1 (Batch (None, 30, 30, 32)        128       \n",
            "_________________________________________________________________\n",
            "conv2d_10 (Conv2D)           (None, 28, 28, 32)        9248      \n",
            "_________________________________________________________________\n",
            "batch_normalization_2 (Batch (None, 28, 28, 32)        128       \n",
            "_________________________________________________________________\n",
            "max_pooling2d_13 (MaxPooling (None, 14, 14, 32)        0         \n",
            "_________________________________________________________________\n",
            "dropout_1 (Dropout)          (None, 14, 14, 32)        0         \n",
            "_________________________________________________________________\n",
            "conv2d_11 (Conv2D)           (None, 12, 12, 64)        18496     \n",
            "_________________________________________________________________\n",
            "batch_normalization_3 (Batch (None, 12, 12, 64)        256       \n",
            "_________________________________________________________________\n",
            "conv2d_12 (Conv2D)           (None, 10, 10, 64)        36928     \n",
            "_________________________________________________________________\n",
            "batch_normalization_4 (Batch (None, 10, 10, 64)        256       \n",
            "_________________________________________________________________\n",
            "max_pooling2d_14 (MaxPooling (None, 5, 5, 64)          0         \n",
            "_________________________________________________________________\n",
            "dropout_2 (Dropout)          (None, 5, 5, 64)          0         \n",
            "_________________________________________________________________\n",
            "conv2d_13 (Conv2D)           (None, 3, 3, 128)         73856     \n",
            "_________________________________________________________________\n",
            "batch_normalization_5 (Batch (None, 3, 3, 128)         512       \n",
            "_________________________________________________________________\n",
            "max_pooling2d_15 (MaxPooling (None, 1, 1, 128)         0         \n",
            "_________________________________________________________________\n",
            "dropout_3 (Dropout)          (None, 1, 1, 128)         0         \n",
            "_________________________________________________________________\n",
            "flatten_5 (Flatten)          (None, 128)               0         \n",
            "_________________________________________________________________\n",
            "dense_15 (Dense)             (None, 256)               33024     \n",
            "_________________________________________________________________\n",
            "dense_16 (Dense)             (None, 25)                6425      \n",
            "=================================================================\n",
            "Total params: 180,153\n",
            "Trainable params: 179,513\n",
            "Non-trainable params: 640\n",
            "_________________________________________________________________\n",
            "Train on 12500 samples, validate on 2500 samples\n",
            "Epoch 1/50\n",
            "12500/12500 [==============================] - 11s 920us/step - loss: 2.6992 - acc: 0.2194 - val_loss: 2.7929 - val_acc: 0.2288\n",
            "Epoch 2/50\n",
            "12500/12500 [==============================] - 4s 316us/step - loss: 2.2806 - acc: 0.3311 - val_loss: 2.2138 - val_acc: 0.3432\n",
            "Epoch 3/50\n",
            "12500/12500 [==============================] - 4s 312us/step - loss: 2.0700 - acc: 0.3886 - val_loss: 1.9188 - val_acc: 0.4272\n",
            "Epoch 4/50\n",
            "12500/12500 [==============================] - 4s 315us/step - loss: 1.9211 - acc: 0.4211 - val_loss: 1.7731 - val_acc: 0.4664\n",
            "Epoch 5/50\n",
            "12500/12500 [==============================] - 4s 315us/step - loss: 1.7993 - acc: 0.4605 - val_loss: 1.7330 - val_acc: 0.4792\n",
            "Epoch 6/50\n",
            "12500/12500 [==============================] - 4s 315us/step - loss: 1.6987 - acc: 0.4900 - val_loss: 1.6750 - val_acc: 0.4992\n",
            "Epoch 7/50\n",
            "12500/12500 [==============================] - 4s 314us/step - loss: 1.6001 - acc: 0.5149 - val_loss: 1.7069 - val_acc: 0.4996\n",
            "Epoch 8/50\n",
            "12500/12500 [==============================] - 4s 312us/step - loss: 1.5268 - acc: 0.5317 - val_loss: 1.6613 - val_acc: 0.4996\n",
            "Epoch 9/50\n",
            "12500/12500 [==============================] - 4s 325us/step - loss: 1.4560 - acc: 0.5499 - val_loss: 1.4781 - val_acc: 0.5524\n",
            "Epoch 10/50\n",
            "12500/12500 [==============================] - 4s 329us/step - loss: 1.4052 - acc: 0.5674 - val_loss: 1.9733 - val_acc: 0.4544\n",
            "Epoch 11/50\n",
            "12500/12500 [==============================] - 4s 321us/step - loss: 1.3489 - acc: 0.5852 - val_loss: 1.4125 - val_acc: 0.5764\n",
            "Epoch 12/50\n",
            "12500/12500 [==============================] - 4s 316us/step - loss: 1.3097 - acc: 0.5923 - val_loss: 1.5267 - val_acc: 0.5548\n",
            "Epoch 13/50\n",
            "12500/12500 [==============================] - 4s 314us/step - loss: 1.2472 - acc: 0.6091 - val_loss: 1.3271 - val_acc: 0.5868\n",
            "Epoch 14/50\n",
            "12500/12500 [==============================] - 4s 313us/step - loss: 1.2045 - acc: 0.6171 - val_loss: 1.4380 - val_acc: 0.5828\n",
            "Epoch 15/50\n",
            "12500/12500 [==============================] - 4s 319us/step - loss: 1.1688 - acc: 0.6343 - val_loss: 1.3577 - val_acc: 0.5900\n",
            "Epoch 16/50\n",
            "12500/12500 [==============================] - 4s 316us/step - loss: 1.1303 - acc: 0.6458 - val_loss: 1.4634 - val_acc: 0.5784\n",
            "Epoch 17/50\n",
            "12500/12500 [==============================] - 4s 315us/step - loss: 1.1000 - acc: 0.6507 - val_loss: 1.3583 - val_acc: 0.5980\n",
            "Epoch 18/50\n",
            "12500/12500 [==============================] - 4s 317us/step - loss: 1.0794 - acc: 0.6588 - val_loss: 1.3709 - val_acc: 0.5964\n",
            "Epoch 19/50\n",
            "12500/12500 [==============================] - 4s 315us/step - loss: 1.0454 - acc: 0.6705 - val_loss: 1.3384 - val_acc: 0.6092\n",
            "Epoch 20/50\n",
            "12500/12500 [==============================] - 4s 313us/step - loss: 1.0125 - acc: 0.6776 - val_loss: 1.3529 - val_acc: 0.6120\n",
            "Epoch 21/50\n",
            "12500/12500 [==============================] - 4s 314us/step - loss: 0.9905 - acc: 0.6829 - val_loss: 1.3344 - val_acc: 0.6144\n",
            "Epoch 22/50\n",
            "12500/12500 [==============================] - 4s 314us/step - loss: 0.9741 - acc: 0.6838 - val_loss: 1.2973 - val_acc: 0.6148\n",
            "Epoch 23/50\n",
            "12500/12500 [==============================] - 4s 317us/step - loss: 0.9495 - acc: 0.6904 - val_loss: 1.2622 - val_acc: 0.6344\n",
            "Epoch 24/50\n",
            "12500/12500 [==============================] - 4s 314us/step - loss: 0.9057 - acc: 0.7080 - val_loss: 1.3816 - val_acc: 0.6000\n",
            "Epoch 25/50\n",
            "12500/12500 [==============================] - 4s 315us/step - loss: 0.8984 - acc: 0.7122 - val_loss: 1.3496 - val_acc: 0.6104\n",
            "Epoch 26/50\n",
            "12500/12500 [==============================] - 4s 316us/step - loss: 0.8733 - acc: 0.7171 - val_loss: 1.2812 - val_acc: 0.6308\n",
            "Epoch 27/50\n",
            "12500/12500 [==============================] - 4s 312us/step - loss: 0.8628 - acc: 0.7206 - val_loss: 1.3078 - val_acc: 0.6200\n",
            "Epoch 28/50\n",
            "12500/12500 [==============================] - 4s 312us/step - loss: 0.8518 - acc: 0.7232 - val_loss: 1.3431 - val_acc: 0.6240\n",
            "Epoch 29/50\n",
            "12500/12500 [==============================] - 4s 315us/step - loss: 0.8439 - acc: 0.7212 - val_loss: 1.2848 - val_acc: 0.6228\n",
            "Epoch 30/50\n",
            "12500/12500 [==============================] - 4s 316us/step - loss: 0.8140 - acc: 0.7348 - val_loss: 1.2975 - val_acc: 0.6376\n",
            "Epoch 31/50\n",
            "12500/12500 [==============================] - 4s 311us/step - loss: 0.7904 - acc: 0.7442 - val_loss: 1.3243 - val_acc: 0.6164\n",
            "Epoch 32/50\n",
            "12500/12500 [==============================] - 4s 315us/step - loss: 0.7819 - acc: 0.7486 - val_loss: 1.3516 - val_acc: 0.6168\n",
            "Epoch 33/50\n",
            "12500/12500 [==============================] - 4s 315us/step - loss: 0.7614 - acc: 0.7460 - val_loss: 1.4003 - val_acc: 0.6168\n",
            "Epoch 34/50\n",
            "12500/12500 [==============================] - 4s 314us/step - loss: 0.7471 - acc: 0.7550 - val_loss: 1.3377 - val_acc: 0.6356\n",
            "Epoch 35/50\n",
            "12500/12500 [==============================] - 4s 315us/step - loss: 0.7497 - acc: 0.7557 - val_loss: 1.3967 - val_acc: 0.6204\n",
            "Epoch 36/50\n",
            "12500/12500 [==============================] - 4s 318us/step - loss: 0.7467 - acc: 0.7519 - val_loss: 1.4401 - val_acc: 0.6200\n",
            "Epoch 37/50\n",
            "12500/12500 [==============================] - 4s 319us/step - loss: 0.7238 - acc: 0.7610 - val_loss: 1.3690 - val_acc: 0.6276\n",
            "Epoch 38/50\n",
            "12500/12500 [==============================] - 4s 316us/step - loss: 0.7112 - acc: 0.7636 - val_loss: 1.2955 - val_acc: 0.6472\n",
            "Epoch 39/50\n",
            "12500/12500 [==============================] - 4s 315us/step - loss: 0.7027 - acc: 0.7681 - val_loss: 1.2880 - val_acc: 0.6516\n",
            "Epoch 40/50\n",
            "12500/12500 [==============================] - 4s 324us/step - loss: 0.6738 - acc: 0.7771 - val_loss: 1.5372 - val_acc: 0.6116\n",
            "Epoch 41/50\n",
            "12500/12500 [==============================] - 4s 320us/step - loss: 0.6665 - acc: 0.7806 - val_loss: 1.5345 - val_acc: 0.6228\n",
            "Epoch 42/50\n",
            "12500/12500 [==============================] - 4s 316us/step - loss: 0.6663 - acc: 0.7797 - val_loss: 1.3028 - val_acc: 0.6364\n",
            "Epoch 43/50\n",
            "12500/12500 [==============================] - 4s 314us/step - loss: 0.6596 - acc: 0.7789 - val_loss: 1.3820 - val_acc: 0.6428\n",
            "Epoch 44/50\n",
            "12500/12500 [==============================] - 4s 313us/step - loss: 0.6497 - acc: 0.7837 - val_loss: 1.2787 - val_acc: 0.6564\n",
            "Epoch 45/50\n",
            "12500/12500 [==============================] - 4s 318us/step - loss: 0.6415 - acc: 0.7863 - val_loss: 1.3395 - val_acc: 0.6352\n",
            "Epoch 46/50\n",
            "12500/12500 [==============================] - 4s 314us/step - loss: 0.6238 - acc: 0.7904 - val_loss: 1.3805 - val_acc: 0.6440\n",
            "Epoch 47/50\n",
            "12500/12500 [==============================] - 4s 310us/step - loss: 0.6347 - acc: 0.7854 - val_loss: 1.3490 - val_acc: 0.6516\n",
            "Epoch 48/50\n",
            "12500/12500 [==============================] - 4s 315us/step - loss: 0.6031 - acc: 0.7966 - val_loss: 1.3556 - val_acc: 0.6496\n",
            "Epoch 49/50\n",
            "12500/12500 [==============================] - 4s 312us/step - loss: 0.6135 - acc: 0.7947 - val_loss: 1.3802 - val_acc: 0.6452\n",
            "Epoch 50/50\n",
            "12500/12500 [==============================] - 4s 311us/step - loss: 0.6034 - acc: 0.7981 - val_loss: 1.4529 - val_acc: 0.6300\n",
            "Test loss 1.4528977069854736\n",
            "Test accuracy 0.63\n"
          ],
          "name": "stdout"
        },
        {
          "output_type": "display_data",
          "data": {
            "image/png": "[encoded data removed]",
            "text/plain": [
              "<Figure size 432x288 with 1 Axes>"
            ]
          },
          "metadata": {
            "tags": []
          }
        },
        {
          "output_type": "display_data",
          "data": {
            "image/png": "[encoded data removed]",
            "text/plain": [
              "<Figure size 432x288 with 1 Axes>"
            ]
          },
          "metadata": {
            "tags": []
          }
        }
      ]
    },
    {
      "cell_type": "code",
      "metadata": {
        "id": "RWtjl5zSaFHv",
        "colab_type": "code",
        "outputId": "48da4d20-2526-46c8-de62-5f46eabf8776",
        "colab": {
          "base_uri": "https://localhost:8080/",
          "height": 1000
        }
      },
      "source": [
        "print(\">>>>>>>>>>>>>>>>>Mejora: Normalización \")\n",
        "mi_modelo_2 = base_net_2()\n",
        "mi_modelo_2.summary()\n",
        "histograma, weights = entrenamiento_normalizacion(mi_modelo_2, 32, 50)\n",
        "mostrarEvolucion(histograma)\n",
        "mi_modelo_2.set_weights(weights)\n",
        "input(\"Pulse Enter para continuar\")"
      ],
      "execution_count": 0,
      "outputs": [
        {
          "output_type": "stream",
          "text": [
            "Model: \"sequential_6\"\n",
            "_________________________________________________________________\n",
            "Layer (type)                 Output Shape              Param #   \n",
            "=================================================================\n",
            "conv2d_14 (Conv2D)           (None, 30, 30, 32)        896       \n",
            "_________________________________________________________________\n",
            "batch_normalization_6 (Batch (None, 30, 30, 32)        128       \n",
            "_________________________________________________________________\n",
            "conv2d_15 (Conv2D)           (None, 28, 28, 32)        9248      \n",
            "_________________________________________________________________\n",
            "batch_normalization_7 (Batch (None, 28, 28, 32)        128       \n",
            "_________________________________________________________________\n",
            "max_pooling2d_16 (MaxPooling (None, 14, 14, 32)        0         \n",
            "_________________________________________________________________\n",
            "dropout_4 (Dropout)          (None, 14, 14, 32)        0         \n",
            "_________________________________________________________________\n",
            "conv2d_16 (Conv2D)           (None, 12, 12, 64)        18496     \n",
            "_________________________________________________________________\n",
            "batch_normalization_8 (Batch (None, 12, 12, 64)        256       \n",
            "_________________________________________________________________\n",
            "conv2d_17 (Conv2D)           (None, 10, 10, 64)        36928     \n",
            "_________________________________________________________________\n",
            "batch_normalization_9 (Batch (None, 10, 10, 64)        256       \n",
            "_________________________________________________________________\n",
            "max_pooling2d_17 (MaxPooling (None, 5, 5, 64)          0         \n",
            "_________________________________________________________________\n",
            "dropout_5 (Dropout)          (None, 5, 5, 64)          0         \n",
            "_________________________________________________________________\n",
            "conv2d_18 (Conv2D)           (None, 3, 3, 128)         73856     \n",
            "_________________________________________________________________\n",
            "batch_normalization_10 (Batc (None, 3, 3, 128)         512       \n",
            "_________________________________________________________________\n",
            "max_pooling2d_18 (MaxPooling (None, 1, 1, 128)         0         \n",
            "_________________________________________________________________\n",
            "dropout_6 (Dropout)          (None, 1, 1, 128)         0         \n",
            "_________________________________________________________________\n",
            "flatten_6 (Flatten)          (None, 128)               0         \n",
            "_________________________________________________________________\n",
            "dense_17 (Dense)             (None, 256)               33024     \n",
            "_________________________________________________________________\n",
            "dense_18 (Dense)             (None, 25)                6425      \n",
            "=================================================================\n",
            "Total params: 180,153\n",
            "Trainable params: 179,513\n",
            "Non-trainable params: 640\n",
            "_________________________________________________________________\n",
            "Epoch 1/50\n",
            "352/351 [==============================] - 12s 33ms/step - loss: 2.7581 - acc: 0.2060 - val_loss: 2.5043 - val_acc: 0.2592\n",
            "Epoch 2/50\n",
            "352/351 [==============================] - 4s 10ms/step - loss: 2.3603 - acc: 0.3120 - val_loss: 2.2600 - val_acc: 0.3368\n",
            "Epoch 3/50\n",
            "352/351 [==============================] - 4s 10ms/step - loss: 2.1547 - acc: 0.3668 - val_loss: 2.0992 - val_acc: 0.3864\n",
            "Epoch 4/50\n",
            "352/351 [==============================] - 4s 10ms/step - loss: 2.0237 - acc: 0.3968 - val_loss: 2.0397 - val_acc: 0.3808\n",
            "Epoch 5/50\n",
            "352/351 [==============================] - 4s 10ms/step - loss: 1.8875 - acc: 0.4331 - val_loss: 1.9807 - val_acc: 0.4152\n",
            "Epoch 6/50\n",
            "352/351 [==============================] - 4s 10ms/step - loss: 1.7807 - acc: 0.4581 - val_loss: 1.8216 - val_acc: 0.4552\n",
            "Epoch 7/50\n",
            "352/351 [==============================] - 4s 10ms/step - loss: 1.6952 - acc: 0.4873 - val_loss: 1.7384 - val_acc: 0.4904\n",
            "Epoch 8/50\n",
            "352/351 [==============================] - 4s 10ms/step - loss: 1.6007 - acc: 0.5145 - val_loss: 1.7024 - val_acc: 0.4864\n",
            "Epoch 9/50\n",
            "352/351 [==============================] - 4s 10ms/step - loss: 1.5292 - acc: 0.5295 - val_loss: 1.6454 - val_acc: 0.5272\n",
            "Epoch 10/50\n",
            "352/351 [==============================] - 4s 10ms/step - loss: 1.4669 - acc: 0.5511 - val_loss: 1.5628 - val_acc: 0.5248\n",
            "Epoch 11/50\n",
            "352/351 [==============================] - 4s 10ms/step - loss: 1.4111 - acc: 0.5673 - val_loss: 1.5588 - val_acc: 0.5368\n",
            "Epoch 12/50\n",
            "352/351 [==============================] - 4s 10ms/step - loss: 1.3429 - acc: 0.5874 - val_loss: 1.5685 - val_acc: 0.5592\n",
            "Epoch 13/50\n",
            "352/351 [==============================] - 4s 10ms/step - loss: 1.2959 - acc: 0.6004 - val_loss: 1.5319 - val_acc: 0.5560\n",
            "Epoch 14/50\n",
            "352/351 [==============================] - 4s 10ms/step - loss: 1.2646 - acc: 0.6039 - val_loss: 1.4856 - val_acc: 0.5528\n",
            "Epoch 15/50\n",
            "352/351 [==============================] - 4s 10ms/step - loss: 1.2084 - acc: 0.6216 - val_loss: 1.5257 - val_acc: 0.5568\n",
            "Epoch 16/50\n",
            "352/351 [==============================] - 4s 10ms/step - loss: 1.1938 - acc: 0.6233 - val_loss: 1.4942 - val_acc: 0.5656\n",
            "Epoch 17/50\n",
            "352/351 [==============================] - 4s 10ms/step - loss: 1.1422 - acc: 0.6367 - val_loss: 1.4515 - val_acc: 0.5704\n",
            "Epoch 18/50\n",
            "352/351 [==============================] - 4s 10ms/step - loss: 1.0925 - acc: 0.6553 - val_loss: 1.3777 - val_acc: 0.5848\n",
            "Epoch 19/50\n",
            "352/351 [==============================] - 4s 10ms/step - loss: 1.0803 - acc: 0.6562 - val_loss: 1.4083 - val_acc: 0.6008\n",
            "Epoch 20/50\n",
            "352/351 [==============================] - 3s 10ms/step - loss: 1.0384 - acc: 0.6690 - val_loss: 1.4390 - val_acc: 0.5768\n",
            "Epoch 21/50\n",
            "352/351 [==============================] - 4s 10ms/step - loss: 1.0242 - acc: 0.6702 - val_loss: 1.4154 - val_acc: 0.5912\n",
            "Epoch 22/50\n",
            "352/351 [==============================] - 4s 10ms/step - loss: 0.9955 - acc: 0.6813 - val_loss: 1.3834 - val_acc: 0.5928\n",
            "Epoch 23/50\n",
            "352/351 [==============================] - 4s 10ms/step - loss: 0.9615 - acc: 0.6910 - val_loss: 1.4564 - val_acc: 0.5896\n",
            "Epoch 24/50\n",
            "352/351 [==============================] - 4s 10ms/step - loss: 0.9400 - acc: 0.6950 - val_loss: 1.4662 - val_acc: 0.5824\n",
            "Epoch 25/50\n",
            "352/351 [==============================] - 4s 10ms/step - loss: 0.9188 - acc: 0.7030 - val_loss: 1.4460 - val_acc: 0.5944\n",
            "Epoch 26/50\n",
            "352/351 [==============================] - 4s 10ms/step - loss: 0.8944 - acc: 0.7074 - val_loss: 1.4508 - val_acc: 0.5920\n",
            "Epoch 27/50\n",
            "352/351 [==============================] - 4s 10ms/step - loss: 0.8747 - acc: 0.7149 - val_loss: 1.5135 - val_acc: 0.5736\n",
            "Epoch 28/50\n",
            "352/351 [==============================] - 4s 10ms/step - loss: 0.8670 - acc: 0.7170 - val_loss: 1.4394 - val_acc: 0.5872\n",
            "Epoch 29/50\n",
            "352/351 [==============================] - 4s 10ms/step - loss: 0.8325 - acc: 0.7274 - val_loss: 1.4415 - val_acc: 0.5936\n",
            "Epoch 30/50\n",
            "352/351 [==============================] - 4s 10ms/step - loss: 0.8271 - acc: 0.7287 - val_loss: 1.4723 - val_acc: 0.5936\n",
            "Epoch 31/50\n",
            "352/351 [==============================] - 4s 10ms/step - loss: 0.7977 - acc: 0.7378 - val_loss: 1.5352 - val_acc: 0.5672\n",
            "Epoch 32/50\n",
            "352/351 [==============================] - 4s 10ms/step - loss: 0.7751 - acc: 0.7474 - val_loss: 1.5144 - val_acc: 0.5800\n",
            "Epoch 33/50\n",
            "352/351 [==============================] - 4s 10ms/step - loss: 0.7678 - acc: 0.7512 - val_loss: 1.4916 - val_acc: 0.5984\n",
            "Epoch 34/50\n",
            "352/351 [==============================] - 4s 10ms/step - loss: 0.7648 - acc: 0.7494 - val_loss: 1.5061 - val_acc: 0.6128\n",
            "Epoch 35/50\n",
            "352/351 [==============================] - 4s 10ms/step - loss: 0.7501 - acc: 0.7553 - val_loss: 1.4728 - val_acc: 0.5976\n",
            "Epoch 36/50\n",
            "352/351 [==============================] - 4s 10ms/step - loss: 0.7388 - acc: 0.7545 - val_loss: 1.4939 - val_acc: 0.6056\n",
            "Epoch 37/50\n",
            "352/351 [==============================] - 4s 10ms/step - loss: 0.7075 - acc: 0.7690 - val_loss: 1.4526 - val_acc: 0.5896\n",
            "Epoch 38/50\n",
            "352/351 [==============================] - 4s 10ms/step - loss: 0.6887 - acc: 0.7719 - val_loss: 1.4994 - val_acc: 0.6016\n",
            "Epoch 39/50\n",
            "352/351 [==============================] - 4s 10ms/step - loss: 0.6942 - acc: 0.7657 - val_loss: 1.4817 - val_acc: 0.5920\n",
            "Epoch 40/50\n",
            "352/351 [==============================] - 4s 10ms/step - loss: 0.6794 - acc: 0.7728 - val_loss: 1.5723 - val_acc: 0.6000\n",
            "Epoch 41/50\n",
            "352/351 [==============================] - 4s 10ms/step - loss: 0.6724 - acc: 0.7805 - val_loss: 1.5270 - val_acc: 0.6072\n",
            "Epoch 42/50\n",
            "352/351 [==============================] - 4s 10ms/step - loss: 0.6422 - acc: 0.7856 - val_loss: 1.5104 - val_acc: 0.6024\n",
            "Epoch 43/50\n",
            "352/351 [==============================] - 4s 10ms/step - loss: 0.6394 - acc: 0.7881 - val_loss: 1.5081 - val_acc: 0.6104\n",
            "Epoch 44/50\n",
            "352/351 [==============================] - 3s 10ms/step - loss: 0.6276 - acc: 0.7943 - val_loss: 1.5106 - val_acc: 0.6120\n",
            "Epoch 45/50\n",
            "352/351 [==============================] - 4s 10ms/step - loss: 0.6173 - acc: 0.7948 - val_loss: 1.5360 - val_acc: 0.6128\n",
            "Epoch 46/50\n",
            "352/351 [==============================] - 4s 10ms/step - loss: 0.6218 - acc: 0.7877 - val_loss: 1.4553 - val_acc: 0.6200\n",
            "Epoch 47/50\n",
            "352/351 [==============================] - 4s 10ms/step - loss: 0.6019 - acc: 0.8001 - val_loss: 1.5228 - val_acc: 0.6032\n",
            "Epoch 48/50\n",
            "352/351 [==============================] - 4s 11ms/step - loss: 0.6009 - acc: 0.8022 - val_loss: 1.4942 - val_acc: 0.6248\n",
            "Epoch 49/50\n",
            "352/351 [==============================] - 4s 11ms/step - loss: 0.5838 - acc: 0.8063 - val_loss: 1.5588 - val_acc: 0.6128\n",
            "Epoch 50/50\n",
            "352/351 [==============================] - 4s 10ms/step - loss: 0.5595 - acc: 0.8103 - val_loss: 1.6157 - val_acc: 0.5960\n",
            "Test loss 1.4679857199192048\n",
            "Test accuracy 0.6296\n"
          ],
          "name": "stdout"
        },
        {
          "output_type": "display_data",
          "data": {
            "image/png": "[encoded data removed]",
            "text/plain": [
              "<Figure size 432x288 with 1 Axes>"
            ]
          },
          "metadata": {
            "tags": []
          }
        },
        {
          "output_type": "display_data",
          "data": {
            "image/png": "[encoded data removed]",
            "text/plain": [
              "<Figure size 432x288 with 1 Axes>"
            ]
          },
          "metadata": {
            "tags": []
          }
        }
      ]
    },
    {
      "cell_type": "code",
      "metadata": {
        "id": "5pBABlo8OYW4",
        "colab_type": "code",
        "outputId": "9534a036-ab9a-471c-912d-185129995b43",
        "colab": {
          "base_uri": "https://localhost:8080/",
          "height": 1000
        }
      },
      "source": [
        "print(\">>>>>>>>>>>>>>>>>Mejora: Data Augmentation \")\n",
        "mi_modelo_3 = base_net_2()\n",
        "mi_modelo_3.summary()\n",
        "histograma, weights = entrenamiento_data_augmentation(mi_modelo_2, 32,50)\n",
        "mostrarEvolucion(histograma)\n",
        "mi_modelo_3.set_weights(weights)\n",
        "input(\"Pulse Enter para continuar\")"
      ],
      "execution_count": 0,
      "outputs": [
        {
          "output_type": "stream",
          "text": [
            "Model: \"sequential_7\"\n",
            "_________________________________________________________________\n",
            "Layer (type)                 Output Shape              Param #   \n",
            "=================================================================\n",
            "conv2d_19 (Conv2D)           (None, 30, 30, 32)        896       \n",
            "_________________________________________________________________\n",
            "batch_normalization_11 (Batc (None, 30, 30, 32)        128       \n",
            "_________________________________________________________________\n",
            "conv2d_20 (Conv2D)           (None, 28, 28, 32)        9248      \n",
            "_________________________________________________________________\n",
            "batch_normalization_12 (Batc (None, 28, 28, 32)        128       \n",
            "_________________________________________________________________\n",
            "max_pooling2d_19 (MaxPooling (None, 14, 14, 32)        0         \n",
            "_________________________________________________________________\n",
            "dropout_7 (Dropout)          (None, 14, 14, 32)        0         \n",
            "_________________________________________________________________\n",
            "conv2d_21 (Conv2D)           (None, 12, 12, 64)        18496     \n",
            "_________________________________________________________________\n",
            "batch_normalization_13 (Batc (None, 12, 12, 64)        256       \n",
            "_________________________________________________________________\n",
            "conv2d_22 (Conv2D)           (None, 10, 10, 64)        36928     \n",
            "_________________________________________________________________\n",
            "batch_normalization_14 (Batc (None, 10, 10, 64)        256       \n",
            "_________________________________________________________________\n",
            "max_pooling2d_20 (MaxPooling (None, 5, 5, 64)          0         \n",
            "_________________________________________________________________\n",
            "dropout_8 (Dropout)          (None, 5, 5, 64)          0         \n",
            "_________________________________________________________________\n",
            "conv2d_23 (Conv2D)           (None, 3, 3, 128)         73856     \n",
            "_________________________________________________________________\n",
            "batch_normalization_15 (Batc (None, 3, 3, 128)         512       \n",
            "_________________________________________________________________\n",
            "max_pooling2d_21 (MaxPooling (None, 1, 1, 128)         0         \n",
            "_________________________________________________________________\n",
            "dropout_9 (Dropout)          (None, 1, 1, 128)         0         \n",
            "_________________________________________________________________\n",
            "flatten_7 (Flatten)          (None, 128)               0         \n",
            "_________________________________________________________________\n",
            "dense_19 (Dense)             (None, 256)               33024     \n",
            "_________________________________________________________________\n",
            "dense_20 (Dense)             (None, 25)                6425      \n",
            "=================================================================\n",
            "Total params: 180,153\n",
            "Trainable params: 179,513\n",
            "Non-trainable params: 640\n",
            "_________________________________________________________________\n",
            "Epoch 1/50\n",
            "352/351 [==============================] - 14s 41ms/step - loss: 2.9196 - acc: 0.1640 - val_loss: 2.7135 - val_acc: 0.2064\n",
            "Epoch 2/50\n",
            "352/351 [==============================] - 6s 18ms/step - loss: 2.6443 - acc: 0.2209 - val_loss: 2.5789 - val_acc: 0.2376\n",
            "Epoch 3/50\n",
            "352/351 [==============================] - 6s 18ms/step - loss: 2.5237 - acc: 0.2624 - val_loss: 2.4913 - val_acc: 0.2656\n",
            "Epoch 4/50\n",
            "352/351 [==============================] - 7s 19ms/step - loss: 2.4294 - acc: 0.2865 - val_loss: 2.3413 - val_acc: 0.3112\n",
            "Epoch 5/50\n",
            "352/351 [==============================] - 6s 18ms/step - loss: 2.3706 - acc: 0.3008 - val_loss: 2.2941 - val_acc: 0.3376\n",
            "Epoch 6/50\n",
            "352/351 [==============================] - 6s 18ms/step - loss: 2.2877 - acc: 0.3269 - val_loss: 2.3246 - val_acc: 0.3104\n",
            "Epoch 7/50\n",
            "352/351 [==============================] - 6s 18ms/step - loss: 2.2323 - acc: 0.3401 - val_loss: 2.1680 - val_acc: 0.3528\n",
            "Epoch 8/50\n",
            "352/351 [==============================] - 6s 18ms/step - loss: 2.1831 - acc: 0.3568 - val_loss: 2.1225 - val_acc: 0.3720\n",
            "Epoch 9/50\n",
            "352/351 [==============================] - 6s 18ms/step - loss: 2.1275 - acc: 0.3702 - val_loss: 2.0740 - val_acc: 0.3800\n",
            "Epoch 10/50\n",
            "352/351 [==============================] - 6s 18ms/step - loss: 2.0827 - acc: 0.3798 - val_loss: 1.9958 - val_acc: 0.3944\n",
            "Epoch 11/50\n",
            "352/351 [==============================] - 7s 19ms/step - loss: 2.0343 - acc: 0.3942 - val_loss: 2.0079 - val_acc: 0.4176\n",
            "Epoch 12/50\n",
            "352/351 [==============================] - 6s 18ms/step - loss: 1.9808 - acc: 0.4012 - val_loss: 1.9220 - val_acc: 0.4440\n",
            "Epoch 13/50\n",
            "352/351 [==============================] - 6s 18ms/step - loss: 1.9543 - acc: 0.4149 - val_loss: 1.8911 - val_acc: 0.4152\n",
            "Epoch 14/50\n",
            "352/351 [==============================] - 6s 18ms/step - loss: 1.9144 - acc: 0.4208 - val_loss: 1.8556 - val_acc: 0.4424\n",
            "Epoch 15/50\n",
            "352/351 [==============================] - 6s 18ms/step - loss: 1.8816 - acc: 0.4335 - val_loss: 1.8142 - val_acc: 0.4592\n",
            "Epoch 16/50\n",
            "352/351 [==============================] - 6s 18ms/step - loss: 1.8571 - acc: 0.4413 - val_loss: 1.7491 - val_acc: 0.4720\n",
            "Epoch 17/50\n",
            "352/351 [==============================] - 6s 18ms/step - loss: 1.8294 - acc: 0.4469 - val_loss: 1.7862 - val_acc: 0.4696\n",
            "Epoch 18/50\n",
            "352/351 [==============================] - 6s 18ms/step - loss: 1.7975 - acc: 0.4479 - val_loss: 1.8053 - val_acc: 0.4560\n",
            "Epoch 19/50\n",
            "352/351 [==============================] - 6s 18ms/step - loss: 1.7773 - acc: 0.4613 - val_loss: 1.7174 - val_acc: 0.4784\n",
            "Epoch 20/50\n",
            "352/351 [==============================] - 6s 18ms/step - loss: 1.7507 - acc: 0.4650 - val_loss: 1.7232 - val_acc: 0.4632\n",
            "Epoch 21/50\n",
            "352/351 [==============================] - 6s 18ms/step - loss: 1.7483 - acc: 0.4685 - val_loss: 1.6775 - val_acc: 0.4936\n",
            "Epoch 22/50\n",
            "352/351 [==============================] - 6s 18ms/step - loss: 1.7080 - acc: 0.4816 - val_loss: 1.6593 - val_acc: 0.4912\n",
            "Epoch 23/50\n",
            "352/351 [==============================] - 6s 18ms/step - loss: 1.6821 - acc: 0.4904 - val_loss: 1.6246 - val_acc: 0.4992\n",
            "Epoch 24/50\n",
            "352/351 [==============================] - 6s 18ms/step - loss: 1.6721 - acc: 0.4895 - val_loss: 1.6380 - val_acc: 0.4976\n",
            "Epoch 25/50\n",
            "352/351 [==============================] - 6s 18ms/step - loss: 1.6521 - acc: 0.4889 - val_loss: 1.6222 - val_acc: 0.5008\n",
            "Epoch 26/50\n",
            "352/351 [==============================] - 6s 18ms/step - loss: 1.6340 - acc: 0.5042 - val_loss: 1.5740 - val_acc: 0.5264\n",
            "Epoch 27/50\n",
            "352/351 [==============================] - 6s 18ms/step - loss: 1.6175 - acc: 0.5087 - val_loss: 1.6306 - val_acc: 0.5120\n",
            "Epoch 28/50\n",
            "352/351 [==============================] - 6s 18ms/step - loss: 1.5992 - acc: 0.5156 - val_loss: 1.5717 - val_acc: 0.5304\n",
            "Epoch 29/50\n",
            "352/351 [==============================] - 6s 18ms/step - loss: 1.5971 - acc: 0.5090 - val_loss: 1.5559 - val_acc: 0.5264\n",
            "Epoch 30/50\n",
            "352/351 [==============================] - 6s 18ms/step - loss: 1.5829 - acc: 0.5144 - val_loss: 1.5821 - val_acc: 0.5272\n",
            "Epoch 31/50\n",
            "352/351 [==============================] - 6s 18ms/step - loss: 1.5755 - acc: 0.5187 - val_loss: 1.5172 - val_acc: 0.5296\n",
            "Epoch 32/50\n",
            "352/351 [==============================] - 6s 18ms/step - loss: 1.5568 - acc: 0.5244 - val_loss: 1.5214 - val_acc: 0.5368\n",
            "Epoch 33/50\n",
            "352/351 [==============================] - 6s 18ms/step - loss: 1.5478 - acc: 0.5283 - val_loss: 1.5467 - val_acc: 0.5032\n",
            "Epoch 34/50\n",
            "352/351 [==============================] - 6s 18ms/step - loss: 1.5393 - acc: 0.5260 - val_loss: 1.5066 - val_acc: 0.5408\n",
            "Epoch 35/50\n",
            "352/351 [==============================] - 6s 18ms/step - loss: 1.5251 - acc: 0.5351 - val_loss: 1.5290 - val_acc: 0.5368\n",
            "Epoch 36/50\n",
            "352/351 [==============================] - 6s 18ms/step - loss: 1.5137 - acc: 0.5379 - val_loss: 1.5103 - val_acc: 0.5568\n",
            "Epoch 37/50\n",
            "352/351 [==============================] - 6s 18ms/step - loss: 1.5080 - acc: 0.5387 - val_loss: 1.5359 - val_acc: 0.5296\n",
            "Epoch 38/50\n",
            "352/351 [==============================] - 6s 18ms/step - loss: 1.5001 - acc: 0.5409 - val_loss: 1.5011 - val_acc: 0.5336\n",
            "Epoch 39/50\n",
            "352/351 [==============================] - 6s 18ms/step - loss: 1.4821 - acc: 0.5420 - val_loss: 1.4806 - val_acc: 0.5584\n",
            "Epoch 40/50\n",
            "352/351 [==============================] - 6s 18ms/step - loss: 1.4701 - acc: 0.5480 - val_loss: 1.4536 - val_acc: 0.5544\n",
            "Epoch 41/50\n",
            "352/351 [==============================] - 6s 18ms/step - loss: 1.4526 - acc: 0.5527 - val_loss: 1.4750 - val_acc: 0.5472\n",
            "Epoch 42/50\n",
            "352/351 [==============================] - 6s 18ms/step - loss: 1.4632 - acc: 0.5523 - val_loss: 1.5187 - val_acc: 0.5336\n",
            "Epoch 43/50\n",
            "352/351 [==============================] - 6s 18ms/step - loss: 1.4392 - acc: 0.5577 - val_loss: 1.5203 - val_acc: 0.5336\n",
            "Epoch 44/50\n",
            "352/351 [==============================] - 6s 18ms/step - loss: 1.4387 - acc: 0.5572 - val_loss: 1.4357 - val_acc: 0.5632\n",
            "Epoch 45/50\n",
            "352/351 [==============================] - 6s 18ms/step - loss: 1.4429 - acc: 0.5554 - val_loss: 1.4393 - val_acc: 0.5624\n",
            "Epoch 46/50\n",
            "352/351 [==============================] - 6s 18ms/step - loss: 1.4327 - acc: 0.5622 - val_loss: 1.4104 - val_acc: 0.5632\n",
            "Epoch 47/50\n",
            "352/351 [==============================] - 6s 18ms/step - loss: 1.4238 - acc: 0.5649 - val_loss: 1.4225 - val_acc: 0.5928\n",
            "Epoch 48/50\n",
            "352/351 [==============================] - 6s 18ms/step - loss: 1.3978 - acc: 0.5680 - val_loss: 1.4002 - val_acc: 0.5672\n",
            "Epoch 49/50\n",
            "352/351 [==============================] - 6s 17ms/step - loss: 1.4067 - acc: 0.5683 - val_loss: 1.3947 - val_acc: 0.5672\n",
            "Epoch 50/50\n",
            "352/351 [==============================] - 6s 18ms/step - loss: 1.3836 - acc: 0.5715 - val_loss: 1.4728 - val_acc: 0.5464\n",
            "Test loss 1.2813919366836548\n",
            "Test accuracy 0.6\n"
          ],
          "name": "stdout"
        },
        {
          "output_type": "display_data",
          "data": {
            "image/png": "[encoded data removed]",
            "text/plain": [
              "<Figure size 432x288 with 1 Axes>"
            ]
          },
          "metadata": {
            "tags": []
          }
        },
        {
          "output_type": "display_data",
          "data": {
            "image/png": "[encoded data removed]",
            "text/plain": [
              "<Figure size 432x288 with 1 Axes>"
            ]
          },
          "metadata": {
            "tags": []
          }
        }
      ]
    },
    {
      "cell_type": "code",
      "metadata": {
        "id": "zW6f8OHTOkhq",
        "colab_type": "code",
        "outputId": "8ef8116a-6ba2-4463-b06b-e17970bb8c86",
        "colab": {
          "base_uri": "https://localhost:8080/",
          "height": 1000
        }
      },
      "source": [
        "print(\">>>>>>>>>>>>>>>>>Mejora: Early Stopping \")\n",
        "mi_modelo_4 = base_net_2()\n",
        "mi_modelo_4.summary()\n",
        "histograma, weights = entrenamiento_early_stopping(mi_modelo_4, 32, 50)\n",
        "mostrarEvolucion(histograma)\n",
        "mi_modelo_4.set_weights(weights)\n",
        "input(\"Pulse Enter para continuar\")"
      ],
      "execution_count": 0,
      "outputs": [
        {
          "output_type": "stream",
          "text": [
            "Model: \"sequential_2\"\n",
            "_________________________________________________________________\n",
            "Layer (type)                 Output Shape              Param #   \n",
            "=================================================================\n",
            "conv2d_6 (Conv2D)            (None, 30, 30, 32)        896       \n",
            "_________________________________________________________________\n",
            "batch_normalization_6 (Batch (None, 30, 30, 32)        128       \n",
            "_________________________________________________________________\n",
            "conv2d_7 (Conv2D)            (None, 28, 28, 32)        9248      \n",
            "_________________________________________________________________\n",
            "batch_normalization_7 (Batch (None, 28, 28, 32)        128       \n",
            "_________________________________________________________________\n",
            "max_pooling2d_4 (MaxPooling2 (None, 14, 14, 32)        0         \n",
            "_________________________________________________________________\n",
            "dropout_4 (Dropout)          (None, 14, 14, 32)        0         \n",
            "_________________________________________________________________\n",
            "conv2d_8 (Conv2D)            (None, 12, 12, 64)        18496     \n",
            "_________________________________________________________________\n",
            "batch_normalization_8 (Batch (None, 12, 12, 64)        256       \n",
            "_________________________________________________________________\n",
            "conv2d_9 (Conv2D)            (None, 10, 10, 64)        36928     \n",
            "_________________________________________________________________\n",
            "batch_normalization_9 (Batch (None, 10, 10, 64)        256       \n",
            "_________________________________________________________________\n",
            "max_pooling2d_5 (MaxPooling2 (None, 5, 5, 64)          0         \n",
            "_________________________________________________________________\n",
            "dropout_5 (Dropout)          (None, 5, 5, 64)          0         \n",
            "_________________________________________________________________\n",
            "conv2d_10 (Conv2D)           (None, 3, 3, 128)         73856     \n",
            "_________________________________________________________________\n",
            "batch_normalization_10 (Batc (None, 3, 3, 128)         512       \n",
            "_________________________________________________________________\n",
            "max_pooling2d_6 (MaxPooling2 (None, 1, 1, 128)         0         \n",
            "_________________________________________________________________\n",
            "dropout_6 (Dropout)          (None, 1, 1, 128)         0         \n",
            "_________________________________________________________________\n",
            "flatten_2 (Flatten)          (None, 128)               0         \n",
            "_________________________________________________________________\n",
            "dense_3 (Dense)              (None, 256)               33024     \n",
            "_________________________________________________________________\n",
            "dense_4 (Dense)              (None, 25)                6425      \n",
            "=================================================================\n",
            "Total params: 180,153\n",
            "Trainable params: 179,513\n",
            "Non-trainable params: 640\n",
            "_________________________________________________________________\n",
            "WARNING:tensorflow:From /usr/local/lib/python3.6/dist-packages/keras/optimizers.py:793: The name tf.train.Optimizer is deprecated. Please use tf.compat.v1.train.Optimizer instead.\n",
            "\n",
            "WARNING:tensorflow:From /usr/local/lib/python3.6/dist-packages/keras/backend/tensorflow_backend.py:3576: The name tf.log is deprecated. Please use tf.math.log instead.\n",
            "\n",
            "WARNING:tensorflow:From /usr/local/lib/python3.6/dist-packages/tensorflow_core/python/ops/math_grad.py:1424: where (from tensorflow.python.ops.array_ops) is deprecated and will be removed in a future version.\n",
            "Instructions for updating:\n",
            "Use tf.where in 2.0, which has the same broadcast rule as np.where\n",
            "WARNING:tensorflow:From /usr/local/lib/python3.6/dist-packages/keras/backend/tensorflow_backend.py:1033: The name tf.assign_add is deprecated. Please use tf.compat.v1.assign_add instead.\n",
            "\n",
            "WARNING:tensorflow:From /usr/local/lib/python3.6/dist-packages/keras/backend/tensorflow_backend.py:1020: The name tf.assign is deprecated. Please use tf.compat.v1.assign instead.\n",
            "\n",
            "Epoch 1/50\n",
            "352/351 [==============================] - 8s 22ms/step - loss: 2.9077 - acc: 0.1665 - val_loss: 2.6700 - val_acc: 0.2280\n",
            "Epoch 2/50\n",
            "352/351 [==============================] - 6s 16ms/step - loss: 2.6339 - acc: 0.2305 - val_loss: 2.5070 - val_acc: 0.2592\n",
            "Epoch 3/50\n",
            "352/351 [==============================] - 6s 17ms/step - loss: 2.5096 - acc: 0.2661 - val_loss: 2.4090 - val_acc: 0.2920\n",
            "Epoch 4/50\n",
            "352/351 [==============================] - 6s 17ms/step - loss: 2.3999 - acc: 0.2977 - val_loss: 2.2968 - val_acc: 0.3344\n",
            "Epoch 5/50\n",
            "352/351 [==============================] - 6s 17ms/step - loss: 2.3313 - acc: 0.3142 - val_loss: 2.2629 - val_acc: 0.3336\n",
            "Epoch 6/50\n",
            "352/351 [==============================] - 6s 17ms/step - loss: 2.2679 - acc: 0.3302 - val_loss: 2.1705 - val_acc: 0.3528\n",
            "Epoch 7/50\n",
            "352/351 [==============================] - 6s 17ms/step - loss: 2.2207 - acc: 0.3426 - val_loss: 2.1085 - val_acc: 0.3728\n",
            "Epoch 8/50\n",
            "352/351 [==============================] - 6s 17ms/step - loss: 2.1555 - acc: 0.3604 - val_loss: 2.1496 - val_acc: 0.3592\n",
            "Epoch 9/50\n",
            "352/351 [==============================] - 6s 17ms/step - loss: 2.0996 - acc: 0.3712 - val_loss: 2.0638 - val_acc: 0.4064\n",
            "Epoch 10/50\n",
            "352/351 [==============================] - 6s 17ms/step - loss: 2.0547 - acc: 0.3861 - val_loss: 1.9971 - val_acc: 0.4024\n",
            "Epoch 11/50\n",
            "352/351 [==============================] - 6s 17ms/step - loss: 2.0228 - acc: 0.3929 - val_loss: 1.9782 - val_acc: 0.4200\n",
            "Epoch 12/50\n",
            "352/351 [==============================] - 6s 17ms/step - loss: 1.9812 - acc: 0.4060 - val_loss: 1.9896 - val_acc: 0.4016\n",
            "Epoch 13/50\n",
            "352/351 [==============================] - 6s 17ms/step - loss: 1.9274 - acc: 0.4264 - val_loss: 1.8861 - val_acc: 0.4376\n",
            "Epoch 14/50\n",
            "352/351 [==============================] - 6s 18ms/step - loss: 1.8828 - acc: 0.4261 - val_loss: 1.8611 - val_acc: 0.4464\n",
            "Epoch 15/50\n",
            "352/351 [==============================] - 6s 18ms/step - loss: 1.8599 - acc: 0.4377 - val_loss: 1.8266 - val_acc: 0.4488\n",
            "Epoch 16/50\n",
            "352/351 [==============================] - 6s 17ms/step - loss: 1.8371 - acc: 0.4453 - val_loss: 1.7555 - val_acc: 0.4896\n",
            "Epoch 17/50\n",
            "352/351 [==============================] - 6s 17ms/step - loss: 1.8044 - acc: 0.4542 - val_loss: 1.8450 - val_acc: 0.4408\n",
            "Epoch 18/50\n",
            "352/351 [==============================] - 6s 17ms/step - loss: 1.7958 - acc: 0.4593 - val_loss: 1.6907 - val_acc: 0.4896\n",
            "Epoch 19/50\n",
            "352/351 [==============================] - 6s 17ms/step - loss: 1.7566 - acc: 0.4648 - val_loss: 1.7257 - val_acc: 0.4880\n",
            "Epoch 20/50\n",
            "352/351 [==============================] - 6s 17ms/step - loss: 1.7388 - acc: 0.4736 - val_loss: 1.7223 - val_acc: 0.4832\n",
            "Epoch 21/50\n",
            "352/351 [==============================] - 6s 17ms/step - loss: 1.7158 - acc: 0.4743 - val_loss: 1.6968 - val_acc: 0.4776\n",
            "Epoch 22/50\n",
            "352/351 [==============================] - 6s 17ms/step - loss: 1.6906 - acc: 0.4846 - val_loss: 1.6516 - val_acc: 0.5056\n",
            "Epoch 23/50\n",
            "352/351 [==============================] - 6s 17ms/step - loss: 1.6838 - acc: 0.4826 - val_loss: 1.6274 - val_acc: 0.5224\n",
            "Epoch 24/50\n",
            "352/351 [==============================] - 6s 17ms/step - loss: 1.6561 - acc: 0.4924 - val_loss: 1.6042 - val_acc: 0.5016\n",
            "Epoch 25/50\n",
            "352/351 [==============================] - 6s 17ms/step - loss: 1.6348 - acc: 0.4984 - val_loss: 1.6353 - val_acc: 0.5000\n",
            "Epoch 26/50\n",
            "352/351 [==============================] - 6s 17ms/step - loss: 1.6312 - acc: 0.5021 - val_loss: 1.5497 - val_acc: 0.5312\n",
            "Epoch 27/50\n",
            "352/351 [==============================] - 6s 17ms/step - loss: 1.6191 - acc: 0.5025 - val_loss: 1.6050 - val_acc: 0.5200\n",
            "Epoch 28/50\n",
            "352/351 [==============================] - 6s 17ms/step - loss: 1.5936 - acc: 0.5091 - val_loss: 1.5167 - val_acc: 0.5344\n",
            "Epoch 29/50\n",
            "352/351 [==============================] - 6s 17ms/step - loss: 1.6047 - acc: 0.5072 - val_loss: 1.5726 - val_acc: 0.5208\n",
            "Epoch 30/50\n",
            "352/351 [==============================] - 6s 17ms/step - loss: 1.5615 - acc: 0.5230 - val_loss: 1.5372 - val_acc: 0.5320\n",
            "Epoch 31/50\n",
            "352/351 [==============================] - 6s 17ms/step - loss: 1.5726 - acc: 0.5186 - val_loss: 1.6322 - val_acc: 0.5056\n",
            "Epoch 32/50\n",
            "352/351 [==============================] - 6s 17ms/step - loss: 1.5576 - acc: 0.5178 - val_loss: 1.5671 - val_acc: 0.5176\n",
            "Epoch 33/50\n",
            "352/351 [==============================] - 6s 17ms/step - loss: 1.5433 - acc: 0.5294 - val_loss: 1.4923 - val_acc: 0.5456\n",
            "Epoch 34/50\n",
            "352/351 [==============================] - 6s 17ms/step - loss: 1.5294 - acc: 0.5341 - val_loss: 1.5498 - val_acc: 0.5360\n",
            "Epoch 35/50\n",
            "352/351 [==============================] - 6s 17ms/step - loss: 1.5186 - acc: 0.5318 - val_loss: 1.5224 - val_acc: 0.5272\n",
            "Epoch 36/50\n",
            "352/351 [==============================] - 6s 17ms/step - loss: 1.5108 - acc: 0.5374 - val_loss: 1.4814 - val_acc: 0.5432\n",
            "Epoch 37/50\n",
            "352/351 [==============================] - 6s 17ms/step - loss: 1.5008 - acc: 0.5328 - val_loss: 1.4207 - val_acc: 0.5640\n",
            "Epoch 38/50\n",
            "352/351 [==============================] - 6s 17ms/step - loss: 1.5114 - acc: 0.5336 - val_loss: 1.4805 - val_acc: 0.5512\n",
            "Epoch 39/50\n",
            "352/351 [==============================] - 6s 17ms/step - loss: 1.4848 - acc: 0.5506 - val_loss: 1.5190 - val_acc: 0.5344\n",
            "Epoch 40/50\n",
            "352/351 [==============================] - 6s 17ms/step - loss: 1.4605 - acc: 0.5530 - val_loss: 1.4767 - val_acc: 0.5472\n",
            "Epoch 41/50\n",
            "352/351 [==============================] - 6s 17ms/step - loss: 1.4645 - acc: 0.5412 - val_loss: 1.4490 - val_acc: 0.5840\n",
            "Epoch 42/50\n",
            "352/351 [==============================] - 6s 17ms/step - loss: 1.4788 - acc: 0.5435 - val_loss: 1.4542 - val_acc: 0.5496\n",
            "Restoring model weights from the end of the best epoch\n",
            "Epoch 00042: early stopping\n",
            "Test loss 1.268967544555664\n",
            "Test accuracy 0.6072\n"
          ],
          "name": "stdout"
        },
        {
          "output_type": "display_data",
          "data": {
            "image/png": "[encoded data removed]",
            "text/plain": [
              "<Figure size 432x288 with 1 Axes>"
            ]
          },
          "metadata": {
            "tags": []
          }
        },
        {
          "output_type": "display_data",
          "data": {
            "image/png": "[encoded data removed]",
            "text/plain": [
              "<Figure size 432x288 with 1 Axes>"
            ]
          },
          "metadata": {
            "tags": []
          }
        }
      ]
    }
  ]
}